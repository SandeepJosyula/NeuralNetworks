{
  "nbformat": 4,
  "nbformat_minor": 0,
  "metadata": {
    "colab": {
      "name": "SJ_ComputerVision_Project_v1.0.ipynb",
      "provenance": [],
      "collapsed_sections": [],
      "toc_visible": true,
      "mount_file_id": "1OtM9SGIBlTFZjID1jIaG9_3bsssplTzg",
      "authorship_tag": "ABX9TyOXD6xaxmZK+1/itydK8U5T",
      "include_colab_link": true
    },
    "kernelspec": {
      "name": "python3",
      "display_name": "Python 3"
    }
  },
  "cells": [
    {
      "cell_type": "markdown",
      "metadata": {
        "id": "view-in-github",
        "colab_type": "text"
      },
      "source": [
        "<a href=\"https://colab.research.google.com/github/SandeepJosyula/NeuralNetworks/blob/master/SJ_ComputerVision_Project_v1_0.ipynb\" target=\"_parent\"><img src=\"https://colab.research.google.com/assets/colab-badge.svg\" alt=\"Open In Colab\"/></a>"
      ]
    },
    {
      "cell_type": "markdown",
      "metadata": {
        "id": "3p-AkqeuCCPE",
        "colab_type": "text"
      },
      "source": [
        "# CV Project -Face Mask Segmentation\n",
        "\n",
        "**Project Description:**\n",
        "\n",
        "In this hands-on project, the goal is to build a Face Mask Segmentation model\n",
        "which includes building a face detector to locate the position of a face in an\n",
        "image.\n",
        "\n",
        "**Data Description:** WIDER Face Dataset\n",
        "\n",
        "WIDER FACE dataset is a Face Mask Segmentation benchmark dataset, of which\n",
        "images are selected from the publicly available WIDER dataset. This data have 32,203 images and 393,703 faces are labeled with a high degree of\n",
        "variability in scale, pose and occlusion as depicted in the sample images.\n",
        "In this project, we are using 409 images and around 1000 faces for ease of\n",
        "computation.\n",
        "\n",
        "We will be using transfer learning on an already trained model to build our\n",
        "segmenter. We will perform transfer learning on the MobileNet model which is\n",
        "already trained to perform image segmentation. We will need to train the last 6-7 layers and freeze the remaining layers to train the model for face mask\n",
        "segmentation. To be able to train the MobileNet model for face mask\n",
        "segmentation, we will be using the WIDER FACE dataset for various images with a\n",
        "single face and multiple faces. The output of the model is the face mask\n",
        "segmented data which masks the face in an image. We learn to build a face mask\n",
        "segmentation model using Keras supported by Tensorflow.\n",
        "\n",
        "**Reference**\n",
        "Acknowledgment for the datasets.\n",
        "http://mmlab.ie.cuhk.edu.hk/projects/WIDERFace/\n",
        "\n",
        "Mobile Net paper: https://arxiv.org/pdf/1704.04861.pdf\n",
        "\n",
        "**Objective:**\n",
        "In this problem, we use \"Transfer Learning\" of an Image Segmentation model to\n",
        "detect any object according to the problem in hand.\n",
        "\n",
        "Here, we are particularly interested in segmenting faces in a given image\n",
        "Steps and Tasks:\n",
        " - Load the dataset given in form .npy format.\n",
        "    - We have already extracted the images from wider face-dataset and\n",
        "added it in the file images.npy. You can directly use this file for this\n",
        "project.\n",
        "    - “images.npy” contains details about the image and it’s masks, there\n",
        "is no separate CSV file for that\n",
        "    - There is no separate train and test data given\n",
        " -  Create Features(images) and labels(mask) using that data.\n",
        " - Load the pre-trained model and weights. \n",
        " - Create a model using the above model.\n",
        " - Define the Dice Coefficient and Loss function.\n",
        " - Compile and fit the model.\n",
        " - Evaluate the model.\n",
        "\n",
        "**Note:** Detailed Instructions for all the above steps are given in the notebook"
      ]
    },
    {
      "cell_type": "markdown",
      "metadata": {
        "id": "ihL8T6ufEm6Z",
        "colab_type": "text"
      },
      "source": [
        "## Import Libraries"
      ]
    },
    {
      "cell_type": "code",
      "metadata": {
        "id": "nGn1qpxoXyR-",
        "colab_type": "code",
        "colab": {
          "base_uri": "https://localhost:8080/",
          "height": 36
        },
        "outputId": "14b52156-53ee-44a2-87f9-f4b45f8973e2"
      },
      "source": [
        "%tensorflow_version 2.x\n",
        "import tensorflow as tf\n",
        "tensorflow.__version__"
      ],
      "execution_count": 28,
      "outputs": [
        {
          "output_type": "execute_result",
          "data": {
            "application/vnd.google.colaboratory.intrinsic+json": {
              "type": "string"
            },
            "text/plain": [
              "'2.3.0'"
            ]
          },
          "metadata": {
            "tags": []
          },
          "execution_count": 28
        }
      ]
    },
    {
      "cell_type": "code",
      "metadata": {
        "id": "VODthhXtEs1A",
        "colab_type": "code",
        "colab": {}
      },
      "source": [
        "import numpy as np\n",
        "\n",
        "# Initialize the random number generator\n",
        "import random\n",
        "random.seed(0)\n",
        "\n",
        "# Ignore the warnings\n",
        "import warnings\n",
        "warnings.filterwarnings(\"ignore\")"
      ],
      "execution_count": 26,
      "outputs": []
    },
    {
      "cell_type": "code",
      "metadata": {
        "id": "0ToESZSQUcZd",
        "colab_type": "code",
        "colab": {
          "base_uri": "https://localhost:8080/",
          "height": 35
        },
        "outputId": "28ce0122-6e84-4e13-88ff-075bbc42ec8a"
      },
      "source": [
        "from google.colab import drive\n",
        "drive.mount(\"/content/drive\")"
      ],
      "execution_count": 27,
      "outputs": [
        {
          "output_type": "stream",
          "text": [
            "Drive already mounted at /content/drive; to attempt to forcibly remount, call drive.mount(\"/content/drive\", force_remount=True).\n"
          ],
          "name": "stdout"
        }
      ]
    },
    {
      "cell_type": "markdown",
      "metadata": {
        "id": "6CR4Xlv4DmZV",
        "colab_type": "text"
      },
      "source": [
        "## Data Load"
      ]
    },
    {
      "cell_type": "code",
      "metadata": {
        "id": "7QmuySJ8Aznv",
        "colab_type": "code",
        "colab": {
          "base_uri": "https://localhost:8080/",
          "height": 186
        },
        "outputId": "b760c2f0-0b3e-43d8-d8d9-82cdb03777e4"
      },
      "source": [
        "with np.load('/content/drive/My Drive/Study/AI_ML_Study/GreatLearning_UT_Texas/9.Computer_Vision/Project/images.npy', allow_pickle=True) as data:\n",
        "  ex = data[\"X\"]"
      ],
      "execution_count": 29,
      "outputs": [
        {
          "output_type": "error",
          "ename": "AttributeError",
          "evalue": "ignored",
          "traceback": [
            "\u001b[0;31m---------------------------------------------------------------------------\u001b[0m",
            "\u001b[0;31mAttributeError\u001b[0m                            Traceback (most recent call last)",
            "\u001b[0;32m<ipython-input-29-431fb54f72c9>\u001b[0m in \u001b[0;36m<module>\u001b[0;34m()\u001b[0m\n\u001b[0;32m----> 1\u001b[0;31m \u001b[0;32mwith\u001b[0m \u001b[0mnp\u001b[0m\u001b[0;34m.\u001b[0m\u001b[0mload\u001b[0m\u001b[0;34m(\u001b[0m\u001b[0;34m'/content/drive/My Drive/Study/AI_ML_Study/GreatLearning_UT_Texas/9.Computer_Vision/Project/images.npy'\u001b[0m\u001b[0;34m,\u001b[0m \u001b[0mallow_pickle\u001b[0m\u001b[0;34m=\u001b[0m\u001b[0;32mTrue\u001b[0m\u001b[0;34m)\u001b[0m \u001b[0;32mas\u001b[0m \u001b[0mdata\u001b[0m\u001b[0;34m:\u001b[0m\u001b[0;34m\u001b[0m\u001b[0;34m\u001b[0m\u001b[0m\n\u001b[0m\u001b[1;32m      2\u001b[0m   \u001b[0mex\u001b[0m \u001b[0;34m=\u001b[0m \u001b[0mdata\u001b[0m\u001b[0;34m[\u001b[0m\u001b[0;34m\"X\"\u001b[0m\u001b[0;34m]\u001b[0m\u001b[0;34m\u001b[0m\u001b[0;34m\u001b[0m\u001b[0m\n",
            "\u001b[0;31mAttributeError\u001b[0m: __enter__"
          ]
        }
      ]
    },
    {
      "cell_type": "code",
      "metadata": {
        "id": "FGZ0HCc2EuD6",
        "colab_type": "code",
        "colab": {}
      },
      "source": [
        "data = np.load('/content/drive/My Drive/Study/AI_ML_Study/GreatLearning_UT_Texas/9.Computer_Vision/Project/images.npy', allow_pickle=True)"
      ],
      "execution_count": 30,
      "outputs": []
    },
    {
      "cell_type": "code",
      "metadata": {
        "id": "3LKN5zYSEkFq",
        "colab_type": "code",
        "colab": {
          "base_uri": "https://localhost:8080/",
          "height": 35
        },
        "outputId": "8651bd8e-d8be-4f7b-fba0-f1bc0be2214f"
      },
      "source": [
        "data.shape"
      ],
      "execution_count": 31,
      "outputs": [
        {
          "output_type": "execute_result",
          "data": {
            "text/plain": [
              "(409, 2)"
            ]
          },
          "metadata": {
            "tags": []
          },
          "execution_count": 31
        }
      ]
    },
    {
      "cell_type": "code",
      "metadata": {
        "id": "8AkHI4vjEkBy",
        "colab_type": "code",
        "colab": {
          "base_uri": "https://localhost:8080/",
          "height": 944
        },
        "outputId": "e46d5ee7-786e-4fe4-98e5-3f23b03c6070"
      },
      "source": [
        "data[1]"
      ],
      "execution_count": 32,
      "outputs": [
        {
          "output_type": "execute_result",
          "data": {
            "text/plain": [
              "array([array([[[207, 216, 227, 255],\n",
              "        [206, 216, 227, 255],\n",
              "        [207, 216, 227, 255],\n",
              "        ...,\n",
              "        [ 35,  33,  34, 255],\n",
              "        [ 35,  33,  34, 255],\n",
              "        [ 35,  33,  34, 255]],\n",
              "\n",
              "       [[207, 216, 227, 255],\n",
              "        [207, 216, 227, 255],\n",
              "        [207, 216, 227, 255],\n",
              "        ...,\n",
              "        [ 35,  32,  33, 255],\n",
              "        [ 35,  33,  34, 255],\n",
              "        [ 35,  33,  34, 255]],\n",
              "\n",
              "       [[207, 216, 227, 255],\n",
              "        [207, 216, 227, 255],\n",
              "        [207, 215, 227, 255],\n",
              "        ...,\n",
              "        [ 35,  33,  33, 255],\n",
              "        [ 35,  33,  34, 255],\n",
              "        [ 35,  33,  34, 255]],\n",
              "\n",
              "       ...,\n",
              "\n",
              "       [[ 31,  21,  17, 255],\n",
              "        [ 31,  22,  18, 255],\n",
              "        [ 31,  22,  18, 255],\n",
              "        ...,\n",
              "        [  0,   1,   4, 255],\n",
              "        [  0,   1,   4, 255],\n",
              "        [  0,   1,   4, 255]],\n",
              "\n",
              "       [[ 31,  22,  18, 255],\n",
              "        [ 31,  22,  18, 255],\n",
              "        [ 31,  22,  18, 255],\n",
              "        ...,\n",
              "        [  0,   1,   4, 255],\n",
              "        [  0,   1,   4, 255],\n",
              "        [  0,   1,   4, 255]],\n",
              "\n",
              "       [[ 31,  22,  18, 255],\n",
              "        [ 30,  22,  17, 255],\n",
              "        [ 31,  22,  18, 255],\n",
              "        ...,\n",
              "        [  0,   1,   4, 255],\n",
              "        [  0,   1,   4, 255],\n",
              "        [  0,   1,   4, 255]]], dtype=uint8),\n",
              "       list([{'label': ['Face'], 'notes': '', 'points': [{'x': 0.7053087757313109, 'y': 0.23260437375745527}, {'x': 0.7692307692307693, 'y': 0.36182902584493043}], 'imageWidth': 1280, 'imageHeight': 697}])],\n",
              "      dtype=object)"
            ]
          },
          "metadata": {
            "tags": []
          },
          "execution_count": 32
        }
      ]
    },
    {
      "cell_type": "code",
      "metadata": {
        "id": "2FETy9SgMCXk",
        "colab_type": "code",
        "colab": {
          "base_uri": "https://localhost:8080/",
          "height": 168
        },
        "outputId": "b1e380ab-9a22-4fc5-d764-2cecf553797a"
      },
      "source": [
        "d1 = data.[\"array\"]"
      ],
      "execution_count": 22,
      "outputs": [
        {
          "output_type": "error",
          "ename": "IndexError",
          "evalue": "ignored",
          "traceback": [
            "\u001b[0;31m---------------------------------------------------------------------------\u001b[0m",
            "\u001b[0;31mIndexError\u001b[0m                                Traceback (most recent call last)",
            "\u001b[0;32m<ipython-input-22-66b11c02c12c>\u001b[0m in \u001b[0;36m<module>\u001b[0;34m()\u001b[0m\n\u001b[0;32m----> 1\u001b[0;31m \u001b[0md1\u001b[0m \u001b[0;34m=\u001b[0m \u001b[0mdata\u001b[0m\u001b[0;34m[\u001b[0m\u001b[0;34m\"array\"\u001b[0m\u001b[0;34m]\u001b[0m\u001b[0;34m[\u001b[0m\u001b[0;36m1\u001b[0m\u001b[0;34m]\u001b[0m\u001b[0;34m\u001b[0m\u001b[0;34m\u001b[0m\u001b[0m\n\u001b[0m",
            "\u001b[0;31mIndexError\u001b[0m: only integers, slices (`:`), ellipsis (`...`), numpy.newaxis (`None`) and integer or boolean arrays are valid indices"
          ]
        }
      ]
    },
    {
      "cell_type": "markdown",
      "metadata": {
        "id": "Z8CU4MBpDseE",
        "colab_type": "text"
      },
      "source": [
        "## Data Pre-processing"
      ]
    },
    {
      "cell_type": "code",
      "metadata": {
        "id": "Lp1ZkeesSfIx",
        "colab_type": "code",
        "colab": {}
      },
      "source": [
        ""
      ],
      "execution_count": null,
      "outputs": []
    },
    {
      "cell_type": "code",
      "metadata": {
        "id": "AKrhMRJImuRh",
        "colab_type": "code",
        "colab": {
          "base_uri": "https://localhost:8080/",
          "height": 239
        },
        "outputId": "3a12aba4-c64e-4617-c92a-135961a0a7e3"
      },
      "source": [
        "with np.load('/content/drive/My Drive/Study/AI_ML_Study/GreatLearning_UT_Texas/9.Computer_Vision/Project/images.npy', allow_pickle=True) as data:\n",
        "  features = data[\"features\"]\n",
        "  labels = data[\"label\"]\n",
        " # notes = data[\"notes\"]\n",
        " # points = data[\"points\"]\n",
        " # imageWidth = data[\"imageWidth\"] \n",
        " # imageHeight = data[\"imageHeight\"]\n"
      ],
      "execution_count": 20,
      "outputs": [
        {
          "output_type": "error",
          "ename": "AttributeError",
          "evalue": "ignored",
          "traceback": [
            "\u001b[0;31m---------------------------------------------------------------------------\u001b[0m",
            "\u001b[0;31mAttributeError\u001b[0m                            Traceback (most recent call last)",
            "\u001b[0;32m<ipython-input-20-d9cc4f3f9886>\u001b[0m in \u001b[0;36m<module>\u001b[0;34m()\u001b[0m\n\u001b[0;32m----> 1\u001b[0;31m \u001b[0;32mwith\u001b[0m \u001b[0mnp\u001b[0m\u001b[0;34m.\u001b[0m\u001b[0mload\u001b[0m\u001b[0;34m(\u001b[0m\u001b[0;34m'/content/drive/My Drive/Study/AI_ML_Study/GreatLearning_UT_Texas/9.Computer_Vision/Project/images.npy'\u001b[0m\u001b[0;34m,\u001b[0m \u001b[0mallow_pickle\u001b[0m\u001b[0;34m=\u001b[0m\u001b[0;32mTrue\u001b[0m\u001b[0;34m)\u001b[0m \u001b[0;32mas\u001b[0m \u001b[0mdata\u001b[0m\u001b[0;34m:\u001b[0m\u001b[0;34m\u001b[0m\u001b[0;34m\u001b[0m\u001b[0m\n\u001b[0m\u001b[1;32m      2\u001b[0m   \u001b[0mfeatures\u001b[0m \u001b[0;34m=\u001b[0m \u001b[0mdata\u001b[0m\u001b[0;34m[\u001b[0m\u001b[0;34m\"features\"\u001b[0m\u001b[0;34m]\u001b[0m\u001b[0;34m\u001b[0m\u001b[0;34m\u001b[0m\u001b[0m\n\u001b[1;32m      3\u001b[0m   \u001b[0mlabels\u001b[0m \u001b[0;34m=\u001b[0m \u001b[0mdata\u001b[0m\u001b[0;34m[\u001b[0m\u001b[0;34m\"label\"\u001b[0m\u001b[0;34m]\u001b[0m\u001b[0;34m\u001b[0m\u001b[0;34m\u001b[0m\u001b[0m\n\u001b[1;32m      4\u001b[0m  \u001b[0;31m# notes = data[\"notes\"]\u001b[0m\u001b[0;34m\u001b[0m\u001b[0;34m\u001b[0m\u001b[0;34m\u001b[0m\u001b[0m\n\u001b[1;32m      5\u001b[0m  \u001b[0;31m# points = data[\"points\"]\u001b[0m\u001b[0;34m\u001b[0m\u001b[0;34m\u001b[0m\u001b[0;34m\u001b[0m\u001b[0m\n",
            "\u001b[0;31mAttributeError\u001b[0m: __enter__"
          ]
        }
      ]
    },
    {
      "cell_type": "code",
      "metadata": {
        "id": "f3EiLsaMR-ES",
        "colab_type": "code",
        "colab": {}
      },
      "source": [
        "dataset = tf.data.Dataset.from_tensor_slices((features, labels))"
      ],
      "execution_count": null,
      "outputs": []
    },
    {
      "cell_type": "code",
      "metadata": {
        "id": "j9HNZxbHEvMs",
        "colab_type": "code",
        "colab": {}
      },
      "source": [
        "pickle.Unpickler()"
      ],
      "execution_count": null,
      "outputs": []
    },
    {
      "cell_type": "markdown",
      "metadata": {
        "id": "nQh1XOWUD4Tg",
        "colab_type": "text"
      },
      "source": [
        "## Load pre-trained model and weights"
      ]
    },
    {
      "cell_type": "code",
      "metadata": {
        "id": "D5s5RpquExvZ",
        "colab_type": "code",
        "colab": {}
      },
      "source": [
        ""
      ],
      "execution_count": null,
      "outputs": []
    },
    {
      "cell_type": "code",
      "metadata": {
        "id": "KbIjdCslEyFL",
        "colab_type": "code",
        "colab": {}
      },
      "source": [
        ""
      ],
      "execution_count": null,
      "outputs": []
    },
    {
      "cell_type": "code",
      "metadata": {
        "id": "qLObXdwTEx3R",
        "colab_type": "code",
        "colab": {}
      },
      "source": [
        ""
      ],
      "execution_count": null,
      "outputs": []
    },
    {
      "cell_type": "code",
      "metadata": {
        "id": "1RUJloJyExz5",
        "colab_type": "code",
        "colab": {}
      },
      "source": [
        ""
      ],
      "execution_count": null,
      "outputs": []
    },
    {
      "cell_type": "code",
      "metadata": {
        "id": "kafhmTmnExrk",
        "colab_type": "code",
        "colab": {}
      },
      "source": [
        ""
      ],
      "execution_count": null,
      "outputs": []
    },
    {
      "cell_type": "markdown",
      "metadata": {
        "id": "HOb5Kv_vD42E",
        "colab_type": "text"
      },
      "source": [
        "## Create a new model using the pre-available model"
      ]
    },
    {
      "cell_type": "code",
      "metadata": {
        "id": "TL0ZHLFOEzLk",
        "colab_type": "code",
        "colab": {}
      },
      "source": [
        ""
      ],
      "execution_count": null,
      "outputs": []
    },
    {
      "cell_type": "code",
      "metadata": {
        "id": "coAOET9tEzPI",
        "colab_type": "code",
        "colab": {}
      },
      "source": [
        ""
      ],
      "execution_count": null,
      "outputs": []
    },
    {
      "cell_type": "code",
      "metadata": {
        "id": "f9ZxsCwbEzVB",
        "colab_type": "code",
        "colab": {}
      },
      "source": [
        ""
      ],
      "execution_count": null,
      "outputs": []
    },
    {
      "cell_type": "code",
      "metadata": {
        "id": "SJ6axc1fEzHs",
        "colab_type": "code",
        "colab": {}
      },
      "source": [
        ""
      ],
      "execution_count": null,
      "outputs": []
    },
    {
      "cell_type": "markdown",
      "metadata": {
        "id": "aNBWa5GZD5Sc",
        "colab_type": "text"
      },
      "source": [
        "## Define the Dice Coefficient and Loss function"
      ]
    },
    {
      "cell_type": "code",
      "metadata": {
        "id": "w4J7702gE0M6",
        "colab_type": "code",
        "colab": {}
      },
      "source": [
        ""
      ],
      "execution_count": null,
      "outputs": []
    },
    {
      "cell_type": "code",
      "metadata": {
        "id": "NnDuZksTE0RX",
        "colab_type": "code",
        "colab": {}
      },
      "source": [
        ""
      ],
      "execution_count": null,
      "outputs": []
    },
    {
      "cell_type": "code",
      "metadata": {
        "id": "POiRqa_8E0H6",
        "colab_type": "code",
        "colab": {}
      },
      "source": [
        ""
      ],
      "execution_count": null,
      "outputs": []
    },
    {
      "cell_type": "markdown",
      "metadata": {
        "id": "lNRDt-S4EXUR",
        "colab_type": "text"
      },
      "source": [
        "## Compile and fit the model"
      ]
    },
    {
      "cell_type": "code",
      "metadata": {
        "id": "iv0aJvmIE1cR",
        "colab_type": "code",
        "colab": {}
      },
      "source": [
        ""
      ],
      "execution_count": null,
      "outputs": []
    },
    {
      "cell_type": "code",
      "metadata": {
        "id": "OS0grsl0E1kX",
        "colab_type": "code",
        "colab": {}
      },
      "source": [
        ""
      ],
      "execution_count": null,
      "outputs": []
    },
    {
      "cell_type": "code",
      "metadata": {
        "id": "ng2WXhzAE1g-",
        "colab_type": "code",
        "colab": {}
      },
      "source": [
        ""
      ],
      "execution_count": null,
      "outputs": []
    },
    {
      "cell_type": "code",
      "metadata": {
        "id": "RflBoTKzE1YF",
        "colab_type": "code",
        "colab": {}
      },
      "source": [
        ""
      ],
      "execution_count": null,
      "outputs": []
    },
    {
      "cell_type": "markdown",
      "metadata": {
        "id": "LZ4nIXv8EXxB",
        "colab_type": "text"
      },
      "source": [
        "## Evaluate the model"
      ]
    },
    {
      "cell_type": "code",
      "metadata": {
        "id": "hJlbBt8wE2S4",
        "colab_type": "code",
        "colab": {}
      },
      "source": [
        ""
      ],
      "execution_count": null,
      "outputs": []
    },
    {
      "cell_type": "code",
      "metadata": {
        "id": "cv-fg52dE2cd",
        "colab_type": "code",
        "colab": {}
      },
      "source": [
        ""
      ],
      "execution_count": null,
      "outputs": []
    },
    {
      "cell_type": "code",
      "metadata": {
        "id": "1exW7vc6E2Zu",
        "colab_type": "code",
        "colab": {}
      },
      "source": [
        ""
      ],
      "execution_count": null,
      "outputs": []
    },
    {
      "cell_type": "code",
      "metadata": {
        "id": "xfGQb6hcE2PZ",
        "colab_type": "code",
        "colab": {}
      },
      "source": [
        ""
      ],
      "execution_count": null,
      "outputs": []
    }
  ]
}