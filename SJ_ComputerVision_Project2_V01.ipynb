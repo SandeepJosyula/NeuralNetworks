{
  "nbformat": 4,
  "nbformat_minor": 0,
  "metadata": {
    "colab": {
      "name": "SJ_ComputerVision_Project2_V01.ipynb",
      "provenance": [],
      "collapsed_sections": [],
      "toc_visible": true,
      "mount_file_id": "1MNelVkLkl6uF_ajcfTfdj_0obT1QLSpH",
      "authorship_tag": "ABX9TyNtocZD4uVeBV7PJQ0pShHl",
      "include_colab_link": true
    },
    "kernelspec": {
      "name": "python3",
      "display_name": "Python 3"
    },
    "accelerator": "TPU"
  },
  "cells": [
    {
      "cell_type": "markdown",
      "metadata": {
        "id": "view-in-github",
        "colab_type": "text"
      },
      "source": [
        "<a href=\"https://colab.research.google.com/github/SandeepJosyula/NeuralNetworks/blob/Computer-Vision/SJ_ComputerVision_Project2_V01.ipynb\" target=\"_parent\"><img src=\"https://colab.research.google.com/assets/colab-badge.svg\" alt=\"Open In Colab\"/></a>"
      ]
    },
    {
      "cell_type": "markdown",
      "metadata": {
        "id": "kykw0RR_6jSH",
        "colab_type": "text"
      },
      "source": [
        "# Project 2 - Advanced Computer Vision\n",
        "## Face Recognition\n",
        "In this hands-on project, the goal is to build a face identification model to recognize faces.\n",
        "\n",
        "**Dataset**\n",
        "\n",
        "Aligned Face Dataset from Pinterest\n",
        "This dataset contains 10,770 images for 100 people. All images are taken from\n",
        "'Pinterest' and aligned using dlib library.\n",
        "\n",
        "**Overview**\n",
        "\n",
        "In this problem, we use a pre-trained model trained on Face recognition to recognize similar faces.Here, we are particularly interested in recognizing whether two given faces are of the same person or not. Below are the steps involved in the project.\n",
        "\n",
        " - Load the dataset and create the metadata.\n",
        " - Check some samples of metadata.\n",
        " - Load the pre-trained model and weights.\n",
        " - Generate Embedding vectors for each face in the dataset.\n",
        " - Build distance metrics for identifying the distance between two given images.\n",
        " - Use PCA for dimensionality reduction.\n",
        " - Build an SVM classifier to map each image to its right person.\n",
        " - Predict using the SVM model.\n"
      ]
    },
    {
      "cell_type": "markdown",
      "metadata": {
        "id": "TCwIzp3V-cU-",
        "colab_type": "text"
      },
      "source": [
        "# Face recognition\n",
        "Task is to recognize a faces"
      ]
    },
    {
      "cell_type": "markdown",
      "metadata": {
        "id": "U-ZApKv_Egbj",
        "colab_type": "text"
      },
      "source": [
        "## Load Libraries"
      ]
    },
    {
      "cell_type": "code",
      "metadata": {
        "id": "P69plaeR6chK",
        "colab_type": "code",
        "colab": {
          "base_uri": "https://localhost:8080/",
          "height": 36
        },
        "outputId": "4cb6ad6b-f641-4345-8851-2787aa5c2b3c"
      },
      "source": [
        "import tensorflow\n",
        "tensorflow.__version__"
      ],
      "execution_count": 1,
      "outputs": [
        {
          "output_type": "execute_result",
          "data": {
            "application/vnd.google.colaboratory.intrinsic+json": {
              "type": "string"
            },
            "text/plain": [
              "'2.3.0'"
            ]
          },
          "metadata": {
            "tags": []
          },
          "execution_count": 1
        }
      ]
    },
    {
      "cell_type": "code",
      "metadata": {
        "id": "mKClCUZIObhe",
        "colab_type": "code",
        "colab": {}
      },
      "source": [
        "import os\n",
        "import numpy as np\n",
        "import cv2\n",
        "from zipfile import ZipFile\n",
        "import matplotlib.pyplot as plt\n",
        "\n",
        "from tensorflow.keras.models import Sequential\n",
        "from tensorflow.keras.layers import ZeroPadding2D, Convolution2D, MaxPooling2D, Dropout, Flatten, Activation\n",
        "from tensorflow.keras.models import Model"
      ],
      "execution_count": 2,
      "outputs": []
    },
    {
      "cell_type": "code",
      "metadata": {
        "id": "HOyRcqB4_cQ-",
        "colab_type": "code",
        "colab": {
          "base_uri": "https://localhost:8080/",
          "height": 35
        },
        "outputId": "7ecdac83-226f-4224-8d33-6749af1e0b65"
      },
      "source": [
        "from google.colab import drive\n",
        "drive.mount('/content/drive')"
      ],
      "execution_count": 3,
      "outputs": [
        {
          "output_type": "stream",
          "text": [
            "Drive already mounted at /content/drive; to attempt to forcibly remount, call drive.mount(\"/content/drive\", force_remount=True).\n"
          ],
          "name": "stdout"
        }
      ]
    },
    {
      "cell_type": "markdown",
      "metadata": {
        "id": "ZiLei3zN_jV0",
        "colab_type": "text"
      },
      "source": [
        "**Change current working directory to project folder (2 marks)**"
      ]
    },
    {
      "cell_type": "code",
      "metadata": {
        "id": "QXBd0MOdN7Ta",
        "colab_type": "code",
        "colab": {}
      },
      "source": [
        "os.chdir('/content/drive/My Drive/Study/AI_ML_Study/GreatLearning_UT_Texas/9.Computer_Vision/Project2')\n",
        "project_path = '/content/drive/My Drive/Study/AI_ML_Study/GreatLearning_UT_Texas/9.Computer_Vision/Project2/'"
      ],
      "execution_count": 4,
      "outputs": []
    },
    {
      "cell_type": "markdown",
      "metadata": {
        "id": "VNAk4XQ0_LcX",
        "colab_type": "text"
      },
      "source": [
        "## Load the datasaet\n",
        "**Aligned Face Dataset from Pinterest**\n",
        "\n",
        "This dataset contains 10.770 images for 100 people. All images are taken from 'Pinterest' and aligned using dlib library."
      ]
    },
    {
      "cell_type": "markdown",
      "metadata": {
        "id": "o2cJohiB_nx2",
        "colab_type": "text"
      },
      "source": [
        "### Extract the zip file (3 marks)\n",
        "- Extract Aligned Face Dataset from Pinterest.zip"
      ]
    },
    {
      "cell_type": "code",
      "metadata": {
        "id": "UqBGmppz_cUB",
        "colab_type": "code",
        "colab": {}
      },
      "source": [
        "# Requires to be executed only once to extract the zip file\n",
        "# commented out since the zip file has already been extracted in my google drive\n",
        "\n",
        "#with ZipFile(project_path+'Aligned Face Dataset from Pinterest.zip', 'r') as z:\n",
        "#  z.extractall()     "
      ],
      "execution_count": 5,
      "outputs": []
    },
    {
      "cell_type": "markdown",
      "metadata": {
        "id": "y4CLJx6A_vK_",
        "colab_type": "text"
      },
      "source": [
        "### Function to load images\n",
        "- Define a function to load the images from the extracted folder and map each image with person id \n"
      ]
    },
    {
      "cell_type": "code",
      "metadata": {
        "id": "se6n_Xme_cON",
        "colab_type": "code",
        "colab": {}
      },
      "source": [
        "class IdentityMetadata():\n",
        "    def __init__(self, base, name, file):\n",
        "        # print(base, name, file)\n",
        "        # dataset base directory\n",
        "        self.base = base\n",
        "        # identity name\n",
        "        self.name = name\n",
        "        # image file name\n",
        "        self.file = file\n",
        "\n",
        "    def __repr__(self):\n",
        "        return self.image_path()\n",
        "\n",
        "    def image_path(self):\n",
        "        return os.path.join(self.base, self.name, self.file) \n",
        "    \n",
        "def load_metadata(path):\n",
        "    metadata = []\n",
        "    for i in os.listdir(path):\n",
        "        for f in os.listdir(os.path.join(path, i)):\n",
        "            # Check file extension. Allow only jpg/jpeg' files.\n",
        "            ext = os.path.splitext(f)[1]\n",
        "            if ext == '.jpg' or ext == '.jpeg':\n",
        "                metadata.append(IdentityMetadata(path, i, f))\n",
        "    return np.array(metadata)\n",
        "\n",
        "# metadata = load_metadata('images')\n",
        "metadata = load_metadata('PINS')"
      ],
      "execution_count": 6,
      "outputs": []
    },
    {
      "cell_type": "code",
      "metadata": {
        "id": "tZ6TYKJ925_C",
        "colab_type": "code",
        "colab": {
          "base_uri": "https://localhost:8080/",
          "height": 35
        },
        "outputId": "a555b2b6-64a4-4309-9d8f-69b19923dbed"
      },
      "source": [
        "print(metadata.shape)"
      ],
      "execution_count": 7,
      "outputs": [
        {
          "output_type": "stream",
          "text": [
            "(11054,)\n"
          ],
          "name": "stdout"
        }
      ]
    },
    {
      "cell_type": "markdown",
      "metadata": {
        "id": "wQxONplB_-MK",
        "colab_type": "text"
      },
      "source": [
        "### Define function to load image\n",
        "- Define a function to load image from the metadata"
      ]
    },
    {
      "cell_type": "code",
      "metadata": {
        "id": "mM5nkBO9__dE",
        "colab_type": "code",
        "colab": {}
      },
      "source": [
        "def load_image(path):\n",
        "    img = cv2.imread(path, 1)\n",
        "    # OpenCV loads images with color channels\n",
        "    # in BGR order. So we need to reverse them\n",
        "    return img[...,::-1]"
      ],
      "execution_count": 8,
      "outputs": []
    },
    {
      "cell_type": "markdown",
      "metadata": {
        "id": "IC5bW_TLABP1",
        "colab_type": "text"
      },
      "source": [
        "### Load a sample image (3 marks)\n",
        "- Load one image using the function \"load_image\""
      ]
    },
    {
      "cell_type": "code",
      "metadata": {
        "id": "K4wO4rM5AD_Z",
        "colab_type": "code",
        "colab": {
          "base_uri": "https://localhost:8080/",
          "height": 305
        },
        "outputId": "9f3fdaee-d0bc-4573-d760-d890e7451b5a"
      },
      "source": [
        "print(project_path + metadata[10].image_path())\n",
        "plt.imshow(load_image(project_path + metadata[10].image_path()))"
      ],
      "execution_count": 9,
      "outputs": [
        {
          "output_type": "stream",
          "text": [
            "/content/drive/My Drive/Study/AI_ML_Study/GreatLearning_UT_Texas/9.Computer_Vision/Project2/PINS/pins_Thomas Middleditch/Thomas Middleditch50.jpg\n"
          ],
          "name": "stdout"
        },
        {
          "output_type": "execute_result",
          "data": {
            "text/plain": [
              "<matplotlib.image.AxesImage at 0x7f329bc53f98>"
            ]
          },
          "metadata": {
            "tags": []
          },
          "execution_count": 9
        },
        {
          "output_type": "display_data",
          "data": {
            "image/png": "[encoded data removed]",
            "text/plain": [
              "<Figure size 432x288 with 1 Axes>"
            ]
          },
          "metadata": {
            "tags": [],
            "needs_background": "light"
          }
        }
      ]
    },
    {
      "cell_type": "code",
      "metadata": {
        "id": "-a_u64kzNTtL",
        "colab_type": "code",
        "colab": {
          "base_uri": "https://localhost:8080/",
          "height": 305
        },
        "outputId": "de939455-5bb5-4208-8ffe-0c6e89f14637"
      },
      "source": [
        "print(project_path + metadata[110].image_path())\n",
        "plt.imshow(load_image(project_path + metadata[110].image_path()))"
      ],
      "execution_count": 10,
      "outputs": [
        {
          "output_type": "stream",
          "text": [
            "/content/drive/My Drive/Study/AI_ML_Study/GreatLearning_UT_Texas/9.Computer_Vision/Project2/PINS/pins_Tom Cavanagh/Tom Cavanagh22.jpg\n"
          ],
          "name": "stdout"
        },
        {
          "output_type": "execute_result",
          "data": {
            "text/plain": [
              "<matplotlib.image.AxesImage at 0x7f329b7a9c50>"
            ]
          },
          "metadata": {
            "tags": []
          },
          "execution_count": 10
        },
        {
          "output_type": "display_data",
          "data": {
            "image/png": "[encoded data removed]",
            "text/plain": [
              "<Figure size 432x288 with 1 Axes>"
            ]
          },
          "metadata": {
            "tags": [],
            "needs_background": "light"
          }
        }
      ]
    },
    {
      "cell_type": "markdown",
      "metadata": {
        "id": "Z0Ggn0GgAEd7",
        "colab_type": "text"
      },
      "source": [
        "## VGG Face model\n",
        "- Here we are giving you the predefined model for VGG face"
      ]
    },
    {
      "cell_type": "code",
      "metadata": {
        "id": "G3V23bOuAHai",
        "colab_type": "code",
        "colab": {}
      },
      "source": [
        "def vgg_face():\t\n",
        "    model = Sequential()\n",
        "    model.add(ZeroPadding2D((1,1),input_shape=(224,224, 3)))\n",
        "    model.add(Convolution2D(64, (3, 3), activation='relu'))\n",
        "    model.add(ZeroPadding2D((1,1)))\n",
        "    model.add(Convolution2D(64, (3, 3), activation='relu'))\n",
        "    model.add(MaxPooling2D((2,2), strides=(2,2)))\n",
        "    \n",
        "    model.add(ZeroPadding2D((1,1)))\n",
        "    model.add(Convolution2D(128, (3, 3), activation='relu'))\n",
        "    model.add(ZeroPadding2D((1,1)))\n",
        "    model.add(Convolution2D(128, (3, 3), activation='relu'))\n",
        "    model.add(MaxPooling2D((2,2), strides=(2,2)))\n",
        "    \n",
        "    model.add(ZeroPadding2D((1,1)))\n",
        "    model.add(Convolution2D(256, (3, 3), activation='relu'))\n",
        "    model.add(ZeroPadding2D((1,1)))\n",
        "    model.add(Convolution2D(256, (3, 3), activation='relu'))\n",
        "    model.add(ZeroPadding2D((1,1)))\n",
        "    model.add(Convolution2D(256, (3, 3), activation='relu'))\n",
        "    model.add(MaxPooling2D((2,2), strides=(2,2)))\n",
        "    \n",
        "    model.add(ZeroPadding2D((1,1)))\n",
        "    model.add(Convolution2D(512, (3, 3), activation='relu'))\n",
        "    model.add(ZeroPadding2D((1,1)))\n",
        "    model.add(Convolution2D(512, (3, 3), activation='relu'))\n",
        "    model.add(ZeroPadding2D((1,1)))\n",
        "    model.add(Convolution2D(512, (3, 3), activation='relu'))\n",
        "    model.add(MaxPooling2D((2,2), strides=(2,2)))\n",
        "    \n",
        "    model.add(ZeroPadding2D((1,1)))\n",
        "    model.add(Convolution2D(512, (3, 3), activation='relu'))\n",
        "    model.add(ZeroPadding2D((1,1)))\n",
        "    model.add(Convolution2D(512, (3, 3), activation='relu'))\n",
        "    model.add(ZeroPadding2D((1,1)))\n",
        "    model.add(Convolution2D(512, (3, 3), activation='relu'))\n",
        "    model.add(MaxPooling2D((2,2), strides=(2,2)))\n",
        "    \n",
        "    model.add(Convolution2D(4096, (7, 7), activation='relu'))\n",
        "    model.add(Dropout(0.5))\n",
        "    model.add(Convolution2D(4096, (1, 1), activation='relu'))\n",
        "    model.add(Dropout(0.5))\n",
        "    model.add(Convolution2D(2622, (1, 1)))\n",
        "    model.add(Flatten())\n",
        "    model.add(Activation('softmax'))\n",
        "    return model"
      ],
      "execution_count": 11,
      "outputs": []
    },
    {
      "cell_type": "markdown",
      "metadata": {
        "id": "epU6rQ2BAI_9",
        "colab_type": "text"
      },
      "source": [
        "### Load the model (3 marks)\n",
        "- Load the model defined above\n",
        "- Then load the given weight file named \"vgg_face_weights.h5\""
      ]
    },
    {
      "cell_type": "code",
      "metadata": {
        "id": "yMVUgZBEALvk",
        "colab_type": "code",
        "colab": {
          "base_uri": "https://localhost:8080/",
          "height": 1000
        },
        "outputId": "3f12b500-782c-452a-8a79-fc3a51478d6a"
      },
      "source": [
        "WEIGHTS_FILE = project_path + \"vgg_face_weights.h5\"\n",
        "THRESHOLD = 0.8\n",
        "EPSILON = 0.02\n",
        "\n",
        "# Create the model\n",
        "model = vgg_face()\n",
        "\n",
        "# Load the pre-trained weights\n",
        "model.load_weights(WEIGHTS_FILE)\n",
        "\n",
        "# Show the model summary\n",
        "model.summary()"
      ],
      "execution_count": 12,
      "outputs": [
        {
          "output_type": "stream",
          "text": [
            "Model: \"sequential\"\n",
            "_________________________________________________________________\n",
            "Layer (type)                 Output Shape              Param #   \n",
            "=================================================================\n",
            "zero_padding2d (ZeroPadding2 (None, 226, 226, 3)       0         \n",
            "_________________________________________________________________\n",
            "conv2d (Conv2D)              (None, 224, 224, 64)      1792      \n",
            "_________________________________________________________________\n",
            "zero_padding2d_1 (ZeroPaddin (None, 226, 226, 64)      0         \n",
            "_________________________________________________________________\n",
            "conv2d_1 (Conv2D)            (None, 224, 224, 64)      36928     \n",
            "_________________________________________________________________\n",
            "max_pooling2d (MaxPooling2D) (None, 112, 112, 64)      0         \n",
            "_________________________________________________________________\n",
            "zero_padding2d_2 (ZeroPaddin (None, 114, 114, 64)      0         \n",
            "_________________________________________________________________\n",
            "conv2d_2 (Conv2D)            (None, 112, 112, 128)     73856     \n",
            "_________________________________________________________________\n",
            "zero_padding2d_3 (ZeroPaddin (None, 114, 114, 128)     0         \n",
            "_________________________________________________________________\n",
            "conv2d_3 (Conv2D)            (None, 112, 112, 128)     147584    \n",
            "_________________________________________________________________\n",
            "max_pooling2d_1 (MaxPooling2 (None, 56, 56, 128)       0         \n",
            "_________________________________________________________________\n",
            "zero_padding2d_4 (ZeroPaddin (None, 58, 58, 128)       0         \n",
            "_________________________________________________________________\n",
            "conv2d_4 (Conv2D)            (None, 56, 56, 256)       295168    \n",
            "_________________________________________________________________\n",
            "zero_padding2d_5 (ZeroPaddin (None, 58, 58, 256)       0         \n",
            "_________________________________________________________________\n",
            "conv2d_5 (Conv2D)            (None, 56, 56, 256)       590080    \n",
            "_________________________________________________________________\n",
            "zero_padding2d_6 (ZeroPaddin (None, 58, 58, 256)       0         \n",
            "_________________________________________________________________\n",
            "conv2d_6 (Conv2D)            (None, 56, 56, 256)       590080    \n",
            "_________________________________________________________________\n",
            "max_pooling2d_2 (MaxPooling2 (None, 28, 28, 256)       0         \n",
            "_________________________________________________________________\n",
            "zero_padding2d_7 (ZeroPaddin (None, 30, 30, 256)       0         \n",
            "_________________________________________________________________\n",
            "conv2d_7 (Conv2D)            (None, 28, 28, 512)       1180160   \n",
            "_________________________________________________________________\n",
            "zero_padding2d_8 (ZeroPaddin (None, 30, 30, 512)       0         \n",
            "_________________________________________________________________\n",
            "conv2d_8 (Conv2D)            (None, 28, 28, 512)       2359808   \n",
            "_________________________________________________________________\n",
            "zero_padding2d_9 (ZeroPaddin (None, 30, 30, 512)       0         \n",
            "_________________________________________________________________\n",
            "conv2d_9 (Conv2D)            (None, 28, 28, 512)       2359808   \n",
            "_________________________________________________________________\n",
            "max_pooling2d_3 (MaxPooling2 (None, 14, 14, 512)       0         \n",
            "_________________________________________________________________\n",
            "zero_padding2d_10 (ZeroPaddi (None, 16, 16, 512)       0         \n",
            "_________________________________________________________________\n",
            "conv2d_10 (Conv2D)           (None, 14, 14, 512)       2359808   \n",
            "_________________________________________________________________\n",
            "zero_padding2d_11 (ZeroPaddi (None, 16, 16, 512)       0         \n",
            "_________________________________________________________________\n",
            "conv2d_11 (Conv2D)           (None, 14, 14, 512)       2359808   \n",
            "_________________________________________________________________\n",
            "zero_padding2d_12 (ZeroPaddi (None, 16, 16, 512)       0         \n",
            "_________________________________________________________________\n",
            "conv2d_12 (Conv2D)           (None, 14, 14, 512)       2359808   \n",
            "_________________________________________________________________\n",
            "max_pooling2d_4 (MaxPooling2 (None, 7, 7, 512)         0         \n",
            "_________________________________________________________________\n",
            "conv2d_13 (Conv2D)           (None, 1, 1, 4096)        102764544 \n",
            "_________________________________________________________________\n",
            "dropout (Dropout)            (None, 1, 1, 4096)        0         \n",
            "_________________________________________________________________\n",
            "conv2d_14 (Conv2D)           (None, 1, 1, 4096)        16781312  \n",
            "_________________________________________________________________\n",
            "dropout_1 (Dropout)          (None, 1, 1, 4096)        0         \n",
            "_________________________________________________________________\n",
            "conv2d_15 (Conv2D)           (None, 1, 1, 2622)        10742334  \n",
            "_________________________________________________________________\n",
            "flatten (Flatten)            (None, 2622)              0         \n",
            "_________________________________________________________________\n",
            "activation (Activation)      (None, 2622)              0         \n",
            "=================================================================\n",
            "Total params: 145,002,878\n",
            "Trainable params: 145,002,878\n",
            "Non-trainable params: 0\n",
            "_________________________________________________________________\n"
          ],
          "name": "stdout"
        }
      ]
    },
    {
      "cell_type": "markdown",
      "metadata": {
        "id": "0V7Yhq0aAMOj",
        "colab_type": "text"
      },
      "source": [
        "## Get vgg_face_descriptor"
      ]
    },
    {
      "cell_type": "code",
      "metadata": {
        "id": "vjBMDkmmAOsq",
        "colab_type": "code",
        "colab": {}
      },
      "source": [
        "vgg_face_descriptor = Model(inputs=model.layers[0].input, outputs=model.layers[-2].output)"
      ],
      "execution_count": 13,
      "outputs": []
    },
    {
      "cell_type": "markdown",
      "metadata": {
        "id": "EfGr7ZI-AOJU",
        "colab_type": "text"
      },
      "source": [
        "## Generate embeddings for each image in the dataset\n",
        "- Given below is an example to load the first image in the metadata and get its embedding vector from the pre-trained model. "
      ]
    },
    {
      "cell_type": "code",
      "metadata": {
        "id": "4aheqfGcAma9",
        "colab_type": "code",
        "colab": {
          "base_uri": "https://localhost:8080/",
          "height": 52
        },
        "outputId": "1ded5749-5e0e-41a0-a41d-7a223e86764d"
      },
      "source": [
        "# Get embedding vector for first image in the metadata using the pre-trained model\n",
        "\n",
        "img_path = metadata[0].image_path()\n",
        "img = load_image(img_path)\n",
        "\n",
        "# Normalising pixel values from [0-255] to [0-1]: scale RGB values to interval [0,1]\n",
        "img = (img / 255.).astype(np.float32)\n",
        "\n",
        "img = cv2.resize(img, dsize = (224,224))\n",
        "print(img.shape)\n",
        "\n",
        "# Obtain embedding vector for an image\n",
        "# Get the embedding vector for the above image using vgg_face_descriptor model and print the shape \n",
        "\n",
        "embedding_vector = vgg_face_descriptor.predict(np.expand_dims(img, axis=0))[0]\n",
        "print(embedding_vector.shape)"
      ],
      "execution_count": 14,
      "outputs": [
        {
          "output_type": "stream",
          "text": [
            "(224, 224, 3)\n",
            "(2622,)\n"
          ],
          "name": "stdout"
        }
      ]
    },
    {
      "cell_type": "markdown",
      "metadata": {
        "id": "8eKzPHVeApLF",
        "colab_type": "text"
      },
      "source": [
        "### Generate embeddings for all images (8 marks)\n",
        "- Write code to iterate through metadata and create embeddings for each image using `vgg_face_descriptor.predict()` and store in a list with name `embeddings`\n",
        "\n",
        "- If there is any error in reading any image in the dataset, fill the emebdding vector of that image with 2622-zeroes as the final embedding from the model is of length 2622."
      ]
    },
    {
      "cell_type": "code",
      "metadata": {
        "id": "HtARXKb9ArUc",
        "colab_type": "code",
        "colab": {}
      },
      "source": [
        "embeddings = np.zeros((metadata.shape[0], 2622))\n",
        "\n",
        "for i, m in enumerate(metadata):\n",
        "  # Load image\n",
        "  img = load_image(metadata[i].image_path())\n",
        "\n",
        "  # Normalising pixel values from [0-255] to [0-1]: scale RGB values to interval [0,1]\n",
        "  img = (img / 255.).astype(np.float32)\n",
        "  # Resize the image to a fixed size of 224 x 224\n",
        "  img = cv2.resize(img, dsize = (224,224))\n",
        "  \n",
        "  # Get the embedding vector for the image using vgg_face_descriptor model  \n",
        "  embeddings[i] = vgg_face_descriptor.predict(np.expand_dims(img, axis=0))[0]\n",
        "  \n",
        "# Since the time taken for all the images is very high, restricted the distance calculation activity to first 150 images only\n",
        "#  if i == 150:\n",
        "#    break\n",
        "\n",
        "print(embeddings.shape)\n"
      ],
      "execution_count": null,
      "outputs": []
    },
    {
      "cell_type": "code",
      "metadata": {
        "id": "sR4MBwAcgMmW",
        "colab_type": "code",
        "colab": {}
      },
      "source": [
        "from numpy import savetxt\n",
        "savetxt('embeddings.npy', embeddings)"
      ],
      "execution_count": null,
      "outputs": []
    },
    {
      "cell_type": "code",
      "metadata": {
        "id": "3pc_Zy0YgY-e",
        "colab_type": "code",
        "colab": {}
      },
      "source": [
        "# load numpy array from csv file\n",
        "from numpy import load\n",
        "# load array\n",
        "data = load('embeddings.npy', allow_pickle=True)"
      ],
      "execution_count": null,
      "outputs": []
    },
    {
      "cell_type": "markdown",
      "metadata": {
        "id": "FWnJpHn7A09t",
        "colab_type": "text"
      },
      "source": [
        "### Function to calculate distance between given 2 pairs of images.\n",
        "\n",
        "- Consider distance metric as \"Squared L2 distance\"\n",
        "- Squared l2 distance between 2 points (x1, y1) and (x2, y2) = (x1-x2)^2 + (y1-y2)^2"
      ]
    },
    {
      "cell_type": "code",
      "metadata": {
        "id": "UfI_gulGA2gS",
        "colab_type": "code",
        "colab": {}
      },
      "source": [
        "def distance(emb1, emb2):\n",
        "    return np.sum(np.square(emb1 - emb2))"
      ],
      "execution_count": null,
      "outputs": []
    },
    {
      "cell_type": "markdown",
      "metadata": {
        "id": "xkdpo5oGA3Lv",
        "colab_type": "text"
      },
      "source": [
        "### Plot images and get distance between the pairs given below\n",
        "- 2, 3 and 2, 180\n",
        "- 30, 31 and 30, 100\n",
        "- 70, 72 and 70, 115"
      ]
    },
    {
      "cell_type": "code",
      "metadata": {
        "id": "xFUt_jhAA6IQ",
        "colab_type": "code",
        "colab": {}
      },
      "source": [
        "import matplotlib.pyplot as plt\n",
        "\n",
        "def show_pair(idx1, idx2):\n",
        "    plt.figure(figsize=(8,3))\n",
        "    plt.suptitle(f'Distance = {distance(embeddings[idx1], embeddings[idx2]):.2f}')\n",
        "    plt.subplot(121)\n",
        "    plt.imshow(load_image(metadata[idx1].image_path()))\n",
        "    plt.subplot(122)\n",
        "    plt.imshow(load_image(metadata[idx2].image_path()));    \n",
        "    print('First Image: ',project_path + metadata[idx1].image_path())\n",
        "    print('Second Image: ',project_path + metadata[idx2].image_path())\n",
        "\n",
        "show_pair(2, 3)\n",
        "show_pair(2, 180)\n",
        "show_pair(30, 31)\n",
        "show_pair(30, 100)\n",
        "show_pair(70, 72)\n",
        "show_pair(70, 115)\n"
      ],
      "execution_count": null,
      "outputs": []
    },
    {
      "cell_type": "markdown",
      "metadata": {
        "id": "IX2xiMu3A5vG",
        "colab_type": "text"
      },
      "source": [
        "## Create train and test sets (8 marks)\n",
        "- Create X_train, X_test and y_train, y_test\n",
        "- Use train_idx to seperate out training features and labels\n",
        "- Use test_idx to seperate out testing features and labels"
      ]
    },
    {
      "cell_type": "code",
      "metadata": {
        "id": "FrhfiD_5BH3q",
        "colab_type": "code",
        "colab": {}
      },
      "source": [
        "train_idx = np.arange(metadata.shape[0]) % 9 != 0     #every 9th example goes in test data and rest go in train data\n",
        "test_idx = np.arange(metadata.shape[0]) % 9 == 0\n",
        "\n",
        "# one half as train examples of 10 identities\n",
        "X_train = embeddings[train_idx]\n",
        "\n",
        "# another half as test examples of 10 identities\n",
        "X_test = embeddings[test_idx]\n",
        "\n",
        "# Create the targets array\n",
        "targets = np.array([m.name for m in metadata])\n",
        "\n",
        "#train labels\n",
        "y_train = targets[train_idx]\n",
        "#test labels\n",
        "y_test = targets[test_idx]"
      ],
      "execution_count": null,
      "outputs": []
    },
    {
      "cell_type": "code",
      "metadata": {
        "id": "veu-PDLXFlH_",
        "colab_type": "code",
        "colab": {}
      },
      "source": [
        "print(X_train.shape)\n",
        "print(X_test.shape)"
      ],
      "execution_count": null,
      "outputs": []
    },
    {
      "cell_type": "code",
      "metadata": {
        "id": "IE0K5gw2Fpo2",
        "colab_type": "code",
        "colab": {}
      },
      "source": [
        "print(y_train.shape)\n",
        "print(y_test.shape)"
      ],
      "execution_count": null,
      "outputs": []
    },
    {
      "cell_type": "markdown",
      "metadata": {
        "id": "9lsPNZ1fBSpY",
        "colab_type": "text"
      },
      "source": [
        "### Encode the Labels (4 marks)\n",
        "- Encode the targets\n",
        "- Use LabelEncoder"
      ]
    },
    {
      "cell_type": "code",
      "metadata": {
        "id": "yY0J1CaRBUun",
        "colab_type": "code",
        "colab": {}
      },
      "source": [
        "from sklearn.preprocessing import LabelEncoder\n",
        "# create an instance of LabelEncoder class\n",
        "Le = LabelEncoder()\n",
        "\n",
        "# Fit the labels for train set which is with us\n",
        "Le.fit(y_train)\n",
        "\n",
        "# Transform the labels for train and test set\n",
        "y_train_encoded = Le.transform(y_train)\n",
        "\n",
        "# Reason why the fit is performed on train, but applied to test is because we may not know if a new image would be tested\n",
        "# in current dataset, there is no possibility of test data set having an entirely new image since we sampled every 9th image\n",
        "y_test_encoded = Le.transform(y_test)"
      ],
      "execution_count": null,
      "outputs": []
    },
    {
      "cell_type": "markdown",
      "metadata": {
        "id": "MvnJryY7BeQh",
        "colab_type": "text"
      },
      "source": [
        "### Standardize the feature values (4 marks)\n",
        "- Scale the features using StandardScaler"
      ]
    },
    {
      "cell_type": "code",
      "metadata": {
        "id": "Nr5t8RIfBjYD",
        "colab_type": "code",
        "colab": {}
      },
      "source": [
        "# Standarize features\n",
        "from sklearn.preprocessing import StandardScaler\n",
        "\n",
        "# Create a class instace for scaler\n",
        "scaler = StandardScaler()\n",
        "\n",
        "# Fit the scaler on the train dataset\n",
        "scaler.fit(X_train)\n",
        "scaler.transform(X_train)\n",
        "\n",
        "# Fit the scaler on the test dataset\n",
        "scaler.fit(X_test)\n",
        "scaler.transform(X_test)"
      ],
      "execution_count": null,
      "outputs": []
    },
    {
      "cell_type": "markdown",
      "metadata": {
        "id": "Iz1VEGPQBkzo",
        "colab_type": "text"
      },
      "source": [
        "## Reduce dimensions using PCA (4 marks)\n",
        "- Reduce feature dimensions using Principal Component Analysis\n",
        "- Set the parameter n_components=128"
      ]
    },
    {
      "cell_type": "code",
      "metadata": {
        "id": "-SB1Ny_oBqtg",
        "colab_type": "code",
        "colab": {}
      },
      "source": [
        "from sklearn.decomposition import PCA\n",
        "\n",
        "# instantiate the pca class\n",
        "pca = PCA(n_components=100)\n",
        "\n",
        "# Fit the PCA with train dataset and transform\n",
        "X_train_pca = pca.fit_transform(X_train)\n",
        "\n",
        "# Fit the PCA with test dataset and transform\n",
        "X_test_pca = pca.fit_transform(X_test)"
      ],
      "execution_count": null,
      "outputs": []
    },
    {
      "cell_type": "markdown",
      "metadata": {
        "id": "AqOox6NmBxSr",
        "colab_type": "text"
      },
      "source": [
        "## Build a Classifier (4 marks)\n",
        "- Use SVM Classifier to predict the person in the given image\n",
        "- Fit the classifier and print the score"
      ]
    },
    {
      "cell_type": "code",
      "metadata": {
        "id": "uVj5LxrQB0CK",
        "colab_type": "code",
        "colab": {}
      },
      "source": [
        "from sklearn.svm import SVC\n",
        "from sklearn.metrics import classification_report, confusion_matrix\n",
        "\n",
        "# instantiate the classifier\n",
        "svc = SVC(gamma='auto')\n",
        "\n",
        "svc.fit(X_train_pca, y_train_encoded)"
      ],
      "execution_count": null,
      "outputs": []
    },
    {
      "cell_type": "code",
      "metadata": {
        "id": "axYw0hSVc1gC",
        "colab_type": "code",
        "colab": {}
      },
      "source": [
        "y_train_pred = svc.predict(X_train_pca)\n",
        "print(confusion_matrix(y_train_encoded,y_train_pred))\n",
        "#print(classification_report(y_train_encoded,y_train_pred))"
      ],
      "execution_count": null,
      "outputs": []
    },
    {
      "cell_type": "code",
      "metadata": {
        "id": "DJe6k3E_c2PB",
        "colab_type": "code",
        "colab": {}
      },
      "source": [
        "y_test_pred = svc.predict(X_test_pca)\n",
        "print(confusion_matrix(y_test_encoded,y_test_pred))\n",
        "#print(classification_report(y_test_encoded,y_test_pred))"
      ],
      "execution_count": null,
      "outputs": []
    },
    {
      "cell_type": "markdown",
      "metadata": {
        "id": "ut0Tf0WBB1i6",
        "colab_type": "text"
      },
      "source": [
        "## Test results (2 mark)\n",
        "- Take 10th image from test set and plot the image\n",
        "- Report to which person(folder name in dataset) the image belongs to"
      ]
    },
    {
      "cell_type": "code",
      "metadata": {
        "id": "4voymhWcB4jH",
        "colab_type": "code",
        "colab": {}
      },
      "source": [
        "import warnings\n",
        "# Suppress LabelEncoder warning\n",
        "warnings.filterwarnings('ignore')\n",
        "\n",
        "# pick the 10th image in test set\n",
        "example_idx = 10\n",
        "\n",
        "example_image = load_image(project_path + metadata[test_idx][example_idx].image_path())\n",
        "\n",
        "# Normalising pixel values from [0-255] to [0-1]: scale RGB values to interval [0,1]\n",
        "example_image = (example_image / 255.).astype(np.float32)\n",
        "# Resize the image to 224 x 224\n",
        "example_image = cv2.resize(example_image, dsize = (224,224))\n",
        "# Obtain embedding vector for an image\n",
        "# Get the embedding vector for the above image using vgg_face_descriptor model and print the shape \n",
        "embedding_vector = vgg_face_descriptor.predict(np.expand_dims(example_image, axis=0))\n",
        "# Fit the scaler on the test dataset\n",
        "scaler.fit(X_test)\n",
        "scaler.fit_transform(embedding_vector)\n",
        "# Perform PCA on the embedding vector\n",
        "pca.fit(X_test)\n",
        "embedding_vector_pca = pca.transform(embedding_vector)"
      ],
      "execution_count": null,
      "outputs": []
    },
    {
      "cell_type": "code",
      "metadata": {
        "id": "xVZMjz7byA4W",
        "colab_type": "code",
        "colab": {}
      },
      "source": [
        "example_prediction = svc.predict(embedding_vector_pca) \n",
        "example_identity = Le.inverse_transform(example_prediction)[0]\n",
        "\n",
        "plt.imshow(example_image)\n",
        "plt.title(f'Identified as {example_identity}');"
      ],
      "execution_count": null,
      "outputs": []
    }
  ]
}