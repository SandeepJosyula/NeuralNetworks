{
  "nbformat": 4,
  "nbformat_minor": 0,
  "metadata": {
    "colab": {
      "name": "SJ_NeuralNetworks Project v1.0",
      "provenance": [],
      "collapsed_sections": [
        "QxAVWmXfYfny",
        "1r3mAlf8DcGX"
      ],
      "toc_visible": true,
      "mount_file_id": "1uSY_g-CIpFM2BIXH-FRyPiAAWMFR2rJ1",
      "authorship_tag": "ABX9TyMuS20jPjn8o7UuNZeI6Bat",
      "include_colab_link": true
    },
    "kernelspec": {
      "name": "python3",
      "display_name": "Python 3"
    }
  },
  "cells": [
    {
      "cell_type": "markdown",
      "metadata": {
        "id": "view-in-github",
        "colab_type": "text"
      },
      "source": [
        "<a href=\"https://colab.research.google.com/github/SandeepJosyula/NeuralNetworks/blob/master/SJ_NeuralNetworks_Project_v1_0.ipynb\" target=\"_parent\"><img src=\"https://colab.research.google.com/assets/colab-badge.svg\" alt=\"Open In Colab\"/></a>"
      ]
    },
    {
      "cell_type": "markdown",
      "metadata": {
        "id": "5Gmcyq2O7Ttb",
        "colab_type": "text"
      },
      "source": [
        "# **Neural Networks Project**\n",
        "## The Problem \n",
        "\n",
        "**Description:** Recognizing multi-digit numbers in photographs captured at street level is an importantcomponent of modern-day map making. A classic example of a corpus of such streetlevel photographs is Google’s StreetView imagery comprised of hundreds of millions ofgeo-located 360 degree panoramic images. The ability to automatically transcribe anaddress number from a geo-located patch of pixels and associate the transcribednumber with a known street address helps pinpoint, with a high degree of accuracy, thelocation of the building it represents.\n",
        "\n",
        "More broadly, recognizing numbers in photographs is a problem of interest to the opticalcharacter recognition community. While OCR on constrained domains like documentprocessing is well studied, arbitrary multi-character text recognition in photographs isstill highly challenging. This difficulty arises due to the wide variability in the visualappearance of text in the wild on account of a large range of fonts, colours, styles,orientations, and character arrangements. The recognition problem is furthercomplicated by environmental factors such as lighting, shadows, secularities, andocclusions as well as by image acquisition factors such as resolution, motion, and focus blurs.\n",
        "\n",
        "In this project we will use dataset with images centred around a single digit (many of theimages do contain some distractors at the sides). Although we are taking a sample ofthe data which is simpler, it is more complex than MNIST because of the distractors.\n",
        "\n",
        "**Data Description:** \n",
        "The Street View House Numbers (SVHN) DatasetSVHN is a real-world image dataset for developing machine learning and objectrecognition algorithms with minimal requirement on data formatting but comes from asignificantly harder, unsolved, real world problem (recognizing digits and numbers innatural scene images). SVHN is obtained from house numbers in Google Street Viewimages.\n",
        "\n",
        "**Link to the dataset:** https://drive.google.com/file/d/1L2-WXzguhUsCArrFUc8EEkXcj33pahoS/view?usp=sharing\n",
        "\n",
        "Acknowledgement for the datasets.Yuval Netzer, Tao Wang, Adam Coates, Alessandro Bissacco, Bo Wu, Andrew Y. NgReading Digits in Natural Images with Unsupervised Feature Learning NIPS Workshopon Deep Learning and Unsupervised Feature Learning 2011. PDFhttp://ufldl.stanford.edu/housenumbers as the URL for this site when necessary\n",
        "\n",
        "##Objective:\n",
        "The objective of the project is to learn how to implement a simple image classification pipeline based on a deep neural network. The goals of this project are as follows: \n",
        "\n",
        "**Steps and tasks**\n",
        "1.Load Dataset\n",
        "2.Understand the basic Image Classification pipeline and the data-driven approach (train/predict stages)\n",
        "3.Data fetching and understand the train/val/test splits. (15points)\n",
        "4.Implement and apply a deep neural network classifier including (feedforward neuralnetwork, RELU, activations) (25points) \n",
        "5.Implement batch normalization for training the neural network(10points) \n",
        "6.Print the classification accuracy metrics (10points) \n",
        "\n",
        "*Hint: refer the following code to load data set, if required*\n"
      ]
    },
    {
      "cell_type": "markdown",
      "metadata": {
        "id": "rcapkOq57mJ2",
        "colab_type": "text"
      },
      "source": [
        "# **Implementation**"
      ]
    },
    {
      "cell_type": "markdown",
      "metadata": {
        "id": "k_8NvO-ODHRn",
        "colab_type": "text"
      },
      "source": [
        "## Import Libraries\n"
      ]
    },
    {
      "cell_type": "code",
      "metadata": {
        "id": "R53GW0us5W5G",
        "colab_type": "code",
        "colab": {}
      },
      "source": [
        "import h5py\n",
        "import numpy as np\n",
        "from tensorflow import keras\n",
        "\n",
        "import matplotlib.pyplot as plt\n",
        "%matplotlib inline\n",
        "\n",
        "from keras.utils.np_utils import to_categorical\n",
        "\n",
        "from keras.models import Sequential\n",
        "from keras.layers import Activation, Dense\n",
        "from keras import optimizers\n",
        "from keras.layers import Flatten"
      ],
      "execution_count": 56,
      "outputs": []
    },
    {
      "cell_type": "markdown",
      "metadata": {
        "id": "6Bqbf0GODPLA",
        "colab_type": "text"
      },
      "source": [
        "## Read data and extract required datasets\n"
      ]
    },
    {
      "cell_type": "code",
      "metadata": {
        "id": "CxxyFbmu0I00",
        "colab_type": "code",
        "colab": {
          "base_uri": "https://localhost:8080/",
          "height": 34
        },
        "outputId": "881c3856-bebd-4120-d989-ee1f93e8236c"
      },
      "source": [
        "# Open the file as read only\n",
        "h5f = h5py.File( '/content/drive/My Drive/Study/ML & AI - Study/Colab Notebooks/Neural Networks/SVHN_single_grey1.h5', mode='r')\n",
        "list(h5f.keys())"
      ],
      "execution_count": 57,
      "outputs": [
        {
          "output_type": "execute_result",
          "data": {
            "text/plain": [
              "['X_test', 'X_train', 'X_val', 'y_test', 'y_train', 'y_val']"
            ]
          },
          "metadata": {
            "tags": []
          },
          "execution_count": 57
        }
      ]
    },
    {
      "cell_type": "code",
      "metadata": {
        "id": "MzXQRTshuIjh",
        "colab_type": "code",
        "colab": {
          "base_uri": "https://localhost:8080/",
          "height": 119
        },
        "outputId": "236e671d-4fc7-4cb5-a1f2-bcad3f83a5a2"
      },
      "source": [
        "X_train = h5f['X_train'][:]\n",
        "X_test = h5f['X_test'][:]\n",
        "X_val = h5f['X_val'][:]\n",
        "y_train = h5f['y_train'][:]\n",
        "y_test = h5f['y_test'][:]\n",
        "y_val = h5f['y_val'][:]\n",
        "print('X_train shape: ',X_train.shape)\n",
        "print('X_test shape: ',X_test.shape)\n",
        "print('y_train shape: ',y_train.shape)\n",
        "print('y_test shape: ',y_test.shape)\n",
        "print('X_val shape: ',X_val.shape)\n",
        "print('y_val shape: ',y_val.shape)\n",
        "h5f.close()"
      ],
      "execution_count": 58,
      "outputs": [
        {
          "output_type": "stream",
          "text": [
            "X_train shape:  (42000, 32, 32)\n",
            "X_test shape:  (18000, 32, 32)\n",
            "y_train shape:  (42000,)\n",
            "y_test shape:  (18000,)\n",
            "X_val shape:  (60000, 32, 32)\n",
            "y_val shape:  (60000,)\n"
          ],
          "name": "stdout"
        }
      ]
    },
    {
      "cell_type": "markdown",
      "metadata": {
        "id": "QxAVWmXfYfny",
        "colab_type": "text"
      },
      "source": [
        "## Data Pre-processing"
      ]
    },
    {
      "cell_type": "markdown",
      "metadata": {
        "id": "BAkusu6TDaqX",
        "colab_type": "text"
      },
      "source": [
        "### Flatten the images for Keras\t"
      ]
    },
    {
      "cell_type": "code",
      "metadata": {
        "id": "PJqPhdnGE5CW",
        "colab_type": "code",
        "colab": {
          "base_uri": "https://localhost:8080/",
          "height": 34
        },
        "outputId": "03fc9b39-ddbb-4125-ea37-d7a023a6e8c4"
      },
      "source": [
        "# reshaping X data: (n, 32, 32) => (n, 1024)\n",
        "X_train = X_train.reshape( (X_train.shape[0], -1))\n",
        "X_test = X_test.reshape((X_test.shape[0], -1))\n",
        "X_val = X_val.reshape((X_val.shape[0], -1))\n",
        "\n",
        "print(X_train.shape, X_test.shape, X_val.shape)"
      ],
      "execution_count": 72,
      "outputs": [
        {
          "output_type": "stream",
          "text": [
            "(42000, 1024) (18000, 1024) (60000, 1024)\n"
          ],
          "name": "stdout"
        }
      ]
    },
    {
      "cell_type": "markdown",
      "metadata": {
        "id": "f_TP9cBFDbsQ",
        "colab_type": "text"
      },
      "source": [
        "### Normalize the inputs for X_train, X_test and X_val\t"
      ]
    },
    {
      "cell_type": "code",
      "metadata": {
        "id": "agQ5HNHHE6g7",
        "colab_type": "code",
        "colab": {}
      },
      "source": [
        ""
      ],
      "execution_count": 49,
      "outputs": []
    },
    {
      "cell_type": "markdown",
      "metadata": {
        "id": "1r3mAlf8DcGX",
        "colab_type": "text"
      },
      "source": [
        "### Convert the class matrices y_train, y_test and y_val into one hot vectors\t"
      ]
    },
    {
      "cell_type": "code",
      "metadata": {
        "id": "OXXi2PGNE8Gj",
        "colab_type": "code",
        "colab": {
          "base_uri": "https://localhost:8080/",
          "height": 34
        },
        "outputId": "3b30b127-2c7f-4843-943f-219e6018eb64"
      },
      "source": [
        "# converting y data into categorical (one-hot encoding)\n",
        "y_train = to_categorical(y_train)\n",
        "y_test = to_categorical(y_test)\n",
        "y_val = to_categorical(y_val)\n",
        "\n",
        "print(y_train.shape, y_test.shape, y_val.shape)"
      ],
      "execution_count": 75,
      "outputs": [
        {
          "output_type": "stream",
          "text": [
            "(42000, 10) (18000, 10) (60000, 10)\n"
          ],
          "name": "stdout"
        }
      ]
    },
    {
      "cell_type": "markdown",
      "metadata": {
        "id": "1cwa9BZXDxWP",
        "colab_type": "text"
      },
      "source": [
        "### Print the train, test and val shapes\t"
      ]
    },
    {
      "cell_type": "code",
      "metadata": {
        "id": "zo-tzJXpE9Xc",
        "colab_type": "code",
        "colab": {
          "base_uri": "https://localhost:8080/",
          "height": 34
        },
        "outputId": "a96c0073-9e9a-45d9-88ed-5060b367a8be"
      },
      "source": [
        "print(X_train.shape, X_test.shape, X_val.shape, y_train.shape, y_test.shape, y_val.shape)"
      ],
      "execution_count": 52,
      "outputs": [
        {
          "output_type": "stream",
          "text": [
            "(42000, 1024) (18000, 1024) (60000, 1024) (42000, 10) (18000, 10) (60000, 10)\n"
          ],
          "name": "stdout"
        }
      ]
    },
    {
      "cell_type": "markdown",
      "metadata": {
        "id": "dalBsG7oDccN",
        "colab_type": "text"
      },
      "source": [
        "### Visualize the first 10 images in X_train and the corresponding Y_train labels\t"
      ]
    },
    {
      "cell_type": "code",
      "metadata": {
        "id": "fSvaZ77TXPGK",
        "colab_type": "code",
        "colab": {
          "base_uri": "https://localhost:8080/",
          "height": 95
        },
        "outputId": "363a8d69-bfa9-4bcd-edc3-94af79046589"
      },
      "source": [
        "plt.figure(figsize=(10, 1))\n",
        "for i in range(10):\n",
        "    plt.subplot(1, 10, i+1)\n",
        "    plt.imshow(X_train[i].reshape(32, 32))  # For gray scale, use the argument cmap=\"gray\"\n",
        "    plt.axis('off')\n",
        "plt.show()\n",
        "print('label for each of the above image: %s' % (y_train[0:10]))"
      ],
      "execution_count": 74,
      "outputs": [
        {
          "output_type": "display_data",
          "data": {
            "image/png": "[encoded data removed]",
            "text/plain": [
              "<Figure size 720x72 with 10 Axes>"
            ]
          },
          "metadata": {
            "tags": [],
            "needs_background": "light"
          }
        },
        {
          "output_type": "stream",
          "text": [
            "label for each of the above image: [2 6 7 4 4 0 3 0 7 3]\n"
          ],
          "name": "stdout"
        }
      ]
    },
    {
      "cell_type": "code",
      "metadata": {
        "id": "wn34BDHnE-WX",
        "colab_type": "code",
        "colab": {}
      },
      "source": [
        ""
      ],
      "execution_count": 52,
      "outputs": []
    },
    {
      "cell_type": "markdown",
      "metadata": {
        "id": "y2qbDRjZDxcg",
        "colab_type": "text"
      },
      "source": [
        "## In the train and test loop, define the hyperparameters for the model\t"
      ]
    },
    {
      "cell_type": "code",
      "metadata": {
        "id": "-nGTXomIE_ld",
        "colab_type": "code",
        "colab": {}
      },
      "source": [
        ""
      ],
      "execution_count": 52,
      "outputs": []
    },
    {
      "cell_type": "markdown",
      "metadata": {
        "id": "s18qS17MDxP7",
        "colab_type": "text"
      },
      "source": [
        "## Create a Sequential model in Keras with input layer with the correct input shape, Hidden Layers, Output Layers and the activation functions\t\n"
      ]
    },
    {
      "cell_type": "code",
      "metadata": {
        "id": "G72gnbPxFBKk",
        "colab_type": "code",
        "colab": {}
      },
      "source": [
        ""
      ],
      "execution_count": 52,
      "outputs": []
    },
    {
      "cell_type": "markdown",
      "metadata": {
        "id": "ZbZitgwpDxJH",
        "colab_type": "text"
      },
      "source": [
        "## Define the optimizer to be used in this model\t"
      ]
    },
    {
      "cell_type": "code",
      "metadata": {
        "id": "JifY6qTbFDPx",
        "colab_type": "code",
        "colab": {}
      },
      "source": [
        ""
      ],
      "execution_count": 52,
      "outputs": []
    },
    {
      "cell_type": "markdown",
      "metadata": {
        "id": "QJhr5MLUDxEI",
        "colab_type": "text"
      },
      "source": [
        "## Compile the model with the corresponding Loss and metrics to monitor\t\n"
      ]
    },
    {
      "cell_type": "code",
      "metadata": {
        "id": "FO6h77xBFEMv",
        "colab_type": "code",
        "colab": {}
      },
      "source": [
        ""
      ],
      "execution_count": 52,
      "outputs": []
    },
    {
      "cell_type": "markdown",
      "metadata": {
        "id": "1rM_n-Y6Dw-Z",
        "colab_type": "text"
      },
      "source": [
        "## Fit the model and use model.evaluate() to return the score\t"
      ]
    },
    {
      "cell_type": "code",
      "metadata": {
        "id": "WUzdfP-mFE_O",
        "colab_type": "code",
        "colab": {}
      },
      "source": [
        ""
      ],
      "execution_count": 52,
      "outputs": []
    },
    {
      "cell_type": "markdown",
      "metadata": {
        "id": "u3rhYgi3Dw5r",
        "colab_type": "text"
      },
      "source": [
        "## Disable Regularization by setting appropriate value for Lambda and check the loss of the NN\t"
      ]
    },
    {
      "cell_type": "code",
      "metadata": {
        "id": "GpSzLK-eFF_l",
        "colab_type": "code",
        "colab": {}
      },
      "source": [
        ""
      ],
      "execution_count": 52,
      "outputs": []
    },
    {
      "cell_type": "markdown",
      "metadata": {
        "id": "Kc3c1sRvEWba",
        "colab_type": "text"
      },
      "source": [
        "## Increase the Regularization parameter (Lambda) and check how the loss is for the NN. Record findings\t"
      ]
    },
    {
      "cell_type": "code",
      "metadata": {
        "id": "62rCSzJ5FHyd",
        "colab_type": "code",
        "colab": {}
      },
      "source": [
        ""
      ],
      "execution_count": 52,
      "outputs": []
    },
    {
      "cell_type": "markdown",
      "metadata": {
        "id": "jMKxajp9EX9S",
        "colab_type": "text"
      },
      "source": [
        "## Network overfit with a small subset of the dataset. Check if the network will overfit when you use no regularization and the loss is very small and accuracy is 100%.\t"
      ]
    },
    {
      "cell_type": "code",
      "metadata": {
        "id": "gRUwW2pMFJAd",
        "colab_type": "code",
        "colab": {}
      },
      "source": [
        ""
      ],
      "execution_count": 52,
      "outputs": []
    },
    {
      "cell_type": "markdown",
      "metadata": {
        "id": "jBdtQIISEYc3",
        "colab_type": "text"
      },
      "source": [
        "## Load the original dataset with all the images and prepare the data for modelling\t"
      ]
    },
    {
      "cell_type": "code",
      "metadata": {
        "id": "Rs69w7XqFMZ-",
        "colab_type": "code",
        "colab": {}
      },
      "source": [
        ""
      ],
      "execution_count": 52,
      "outputs": []
    },
    {
      "cell_type": "markdown",
      "metadata": {
        "id": "xdP-K3RUEYWA",
        "colab_type": "text"
      },
      "source": [
        "## Start with a small Regularization. Keep adjusting the learning rate to check the loss. Record findings\t"
      ]
    },
    {
      "cell_type": "code",
      "metadata": {
        "id": "RXwBBEpQFQ4O",
        "colab_type": "code",
        "colab": {}
      },
      "source": [
        ""
      ],
      "execution_count": 52,
      "outputs": []
    },
    {
      "cell_type": "markdown",
      "metadata": {
        "id": "wdotCAZcEYOY",
        "colab_type": "text"
      },
      "source": [
        "## Perform Hyperparameter Optimization . Record findings\t"
      ]
    },
    {
      "cell_type": "code",
      "metadata": {
        "id": "8UMIw5O9FRmZ",
        "colab_type": "code",
        "colab": {}
      },
      "source": [
        ""
      ],
      "execution_count": 52,
      "outputs": []
    },
    {
      "cell_type": "markdown",
      "metadata": {
        "id": "2jVNG-v1EYH0",
        "colab_type": "text"
      },
      "source": [
        "## Run a finer search by using a finer range of the hyperparameter. Record findings\t"
      ]
    },
    {
      "cell_type": "code",
      "metadata": {
        "id": "Wzr-3p7tFSQa",
        "colab_type": "code",
        "colab": {}
      },
      "source": [
        ""
      ],
      "execution_count": 52,
      "outputs": []
    },
    {
      "cell_type": "markdown",
      "metadata": {
        "id": "mEKGTX-QExXV",
        "colab_type": "text"
      },
      "source": [
        "## Set the best hyperparameters found in the previous step. Check the Network’s accuracy.\t"
      ]
    },
    {
      "cell_type": "code",
      "metadata": {
        "id": "OJuSYoDWFS7u",
        "colab_type": "code",
        "colab": {}
      },
      "source": [
        ""
      ],
      "execution_count": 52,
      "outputs": []
    }
  ]
}