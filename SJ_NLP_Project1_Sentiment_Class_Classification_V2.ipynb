{
  "nbformat": 4,
  "nbformat_minor": 0,
  "metadata": {
    "colab": {
      "name": "SJ_NLP_Project1_Sentiment_Class_Classification_V2.ipynb",
      "provenance": [],
      "collapsed_sections": [],
      "toc_visible": true,
      "authorship_tag": "ABX9TyOgXpd0sYie54+dGKFaWcq+",
      "include_colab_link": true
    },
    "kernelspec": {
      "name": "python3",
      "display_name": "Python 3"
    },
    "accelerator": "GPU"
  },
  "cells": [
    {
      "cell_type": "markdown",
      "metadata": {
        "id": "view-in-github",
        "colab_type": "text"
      },
      "source": [
        "<a href=\"https://colab.research.google.com/github/SandeepJosyula/NeuralNetworks/blob/master/SJ_NLP_Project1_Sentiment_Class_Classification_V2.ipynb\" target=\"_parent\"><img src=\"https://colab.research.google.com/assets/colab-badge.svg\" alt=\"Open In Colab\"/></a>"
      ]
    },
    {
      "cell_type": "markdown",
      "metadata": {
        "id": "VRx6OTfN5eCD"
      },
      "source": [
        "# Project 1 - NLP - Sequential Models\n",
        "\n",
        "## Sentiment Classification\n",
        "**Objective**\n",
        "The objective of this project is to build a text classification model that analyses the customer's sentiments\n",
        "based on their reviews in the IMDB database. The model uses a complex deep learning model to build an\n",
        "embedding layer followed by a classification algorithm to analyze the sentiment of the customers.\n",
        "\n",
        "**Dataset**\n",
        "\n",
        "The Dataset of 50,000 movie reviews from IMDB, labelled by sentiment (positive/negative). Reviews have been preprocessed, and each review is encoded as a sequence of word indexes (integers). For convenience, the words are indexed by their frequency in the dataset, meaning the for that has index 1 is the most frequent word. Use the first 20 words from each review to speed up training, using a max vocab size of 10,000. As a convention, \"0\" does not stand for a specific word, but instead is used to encode any unknown word\n",
        "\n",
        "**Overview**\n",
        "- Dataset of 50,000 movie reviews from IMDB, labeled by sentiment positive (1) or negative (0)\n",
        "- Reviews have been preprocessed, and each review is encoded as a sequence of word indexes (integers).\n",
        "- For convenience, words are indexed by overall frequency in the dataset, so that for instance the integer \"3\" encodes the 3rd most frequent word in the data. This allows for quick filtering operations such as: \"only consider the top 10,000 most common words, but eliminate the top 20 most common words\".\n",
        "- As a convention, \"0\" does not stand for a specific word, but instead is used to encode any unknown word.\n",
        "\n",
        "Command to import data\n",
        "- `from tensorflow.keras.datasets import imdb`\n",
        "\n"
      ]
    },
    {
      "cell_type": "markdown",
      "metadata": {
        "id": "ScspWyLd8I2-"
      },
      "source": [
        "## Import Libraries"
      ]
    },
    {
      "cell_type": "code",
      "metadata": {
        "id": "HgDYwEXR8M1s",
        "outputId": "77a09f72-43f1-4bd7-a4f6-c4bbd406f023",
        "colab": {
          "base_uri": "https://localhost:8080/",
          "height": 36
        }
      },
      "source": [
        "%tensorflow_version 2.x\n",
        "import tensorflow\n",
        "tensorflow.__version__"
      ],
      "execution_count": 1,
      "outputs": [
        {
          "output_type": "execute_result",
          "data": {
            "application/vnd.google.colaboratory.intrinsic+json": {
              "type": "string"
            },
            "text/plain": [
              "'2.3.0'"
            ]
          },
          "metadata": {
            "tags": []
          },
          "execution_count": 1
        }
      ]
    },
    {
      "cell_type": "code",
      "metadata": {
        "id": "h89s6AZ38jha"
      },
      "source": [
        "# Initialize the random number generator\n",
        "import random\n",
        "random.seed(0)\n",
        "\n",
        "# Ignore the warnings\n",
        "import warnings\n",
        "warnings.filterwarnings(\"ignore\")\n",
        "\n",
        "from tensorflow.keras.datasets import imdb\n",
        "\n",
        "import numpy as np\n",
        "import pandas as pd\n",
        "import matplotlib.pyplot as plt\n",
        "import textwrap\n",
        "\n",
        "from keras        import models, regularizers, layers, optimizers, losses, metrics\n",
        "from keras.layers import Dense, Embedding, LSTM, SpatialDropout1D\n",
        "from keras.models import Sequential\n",
        "from keras.layers import Dense, Dropout, Flatten, Activation, TimeDistributed\n",
        "from keras.utils  import np_utils, to_categorical"
      ],
      "execution_count": 2,
      "outputs": []
    },
    {
      "cell_type": "markdown",
      "metadata": {
        "id": "PE3Xc5Co6lGO"
      },
      "source": [
        "### Import the data (2 Marks)\n",
        "- Use `imdb.load_data()` method\n",
        "- Get train and test set\n",
        "- Take 10000 most frequent words"
      ]
    },
    {
      "cell_type": "code",
      "metadata": {
        "id": "zI0tNK-5_b_v"
      },
      "source": [
        "(train_data, train_labels), (test_data, test_labels) = imdb.load_data(num_words=10000)"
      ],
      "execution_count": 3,
      "outputs": []
    },
    {
      "cell_type": "code",
      "metadata": {
        "id": "gZH4sa8BAJlg",
        "outputId": "1558ae0c-ccde-4c20-a5c6-846f8a3c0067",
        "colab": {
          "base_uri": "https://localhost:8080/",
          "height": 106
        }
      },
      "source": [
        "print(\"train_data \", train_data.shape)\n",
        "print(\"train_labels \", train_labels.shape)\n",
        "print(\"~\"*100)\n",
        "print(\"test_data \", test_data.shape)\n",
        "print(\"test_labels \", test_labels.shape)"
      ],
      "execution_count": 4,
      "outputs": [
        {
          "output_type": "stream",
          "text": [
            "train_data  (25000,)\n",
            "train_labels  (25000,)\n",
            "~~~~~~~~~~~~~~~~~~~~~~~~~~~~~~~~~~~~~~~~~~~~~~~~~~~~~~~~~~~~~~~~~~~~~~~~~~~~~~~~~~~~~~~~~~~~~~~~~~~~\n",
            "test_data  (25000,)\n",
            "test_labels  (25000,)\n"
          ],
          "name": "stdout"
        }
      ]
    },
    {
      "cell_type": "markdown",
      "metadata": {
        "id": "BuetZGRylXGg"
      },
      "source": [
        "**Observations:**\n",
        " - Though we import train and test data sets, we will combine them both and reorder prior to using with our model"
      ]
    },
    {
      "cell_type": "markdown",
      "metadata": {
        "id": "o2Hz6mBJPOEK"
      },
      "source": [
        "### Print shape of features & labels (2 Marks)\n",
        " - Number of reviews\n",
        " - Number of words in each review\n",
        " - Number of labels\n",
        " - Maximum review length\n",
        " - Number of categories\n"
      ]
    },
    {
      "cell_type": "markdown",
      "metadata": {
        "id": "OjNuytx2Opbs"
      },
      "source": [
        "**Combine train and test data in to single np array to do the pre-processing**"
      ]
    },
    {
      "cell_type": "code",
      "metadata": {
        "id": "PYCvJbVzNk1O",
        "outputId": "e659da93-4341-4e01-88bc-bd4089f6e584",
        "colab": {
          "base_uri": "https://localhost:8080/",
          "height": 88
        }
      },
      "source": [
        "data = np.concatenate((train_data, test_data), axis=0)\n",
        "targets = np.concatenate((train_labels, test_labels), axis=0)\n",
        "\n",
        "print(\"Number of reviews:\", data.shape[0])\n",
        "print(\"Label categories:\", np.unique(targets))\n",
        "print(\"Number of unique words across all reviews:\", len(np.unique(np.hstack(data))))\n",
        "print(\"Maximum count of words in one review: \", max([len(sequence) for sequence in data]))"
      ],
      "execution_count": 5,
      "outputs": [
        {
          "output_type": "stream",
          "text": [
            "Number of reviews: 50000\n",
            "Label categories: [0 1]\n",
            "Number of unique words across all reviews: 9998\n",
            "Maximum count of words in one review:  2494\n"
          ],
          "name": "stdout"
        }
      ]
    },
    {
      "cell_type": "code",
      "metadata": {
        "id": "T9fb6_FmN5kz",
        "outputId": "66861649-09e0-48de-b073-3113b0d1acdd",
        "colab": {
          "base_uri": "https://localhost:8080/",
          "height": 70
        }
      },
      "source": [
        "length = [len(i) for i in data]\n",
        "print(\"Maximum review length:\", np.max(length))\n",
        "print(\"Average Review length:\", np.mean(length))\n",
        "print(\"Standard Deviation:\", round(np.std(length)))"
      ],
      "execution_count": 6,
      "outputs": [
        {
          "output_type": "stream",
          "text": [
            "Maximum review length: 2494\n",
            "Average Review length: 234.75892\n",
            "Standard Deviation: 173.0\n"
          ],
          "name": "stdout"
        }
      ]
    },
    {
      "cell_type": "code",
      "metadata": {
        "id": "cUoiEt-ON_mK",
        "outputId": "07d04205-050e-41d1-e80f-9dd11a0eccfc",
        "colab": {
          "base_uri": "https://localhost:8080/",
          "height": 72
        }
      },
      "source": [
        "#print the label\n",
        "print(\"Label:\", targets[100])\n",
        "# print the data \n",
        "print(data[100])"
      ],
      "execution_count": 7,
      "outputs": [
        {
          "output_type": "stream",
          "text": [
            "Label: 0\n",
            "[1, 13, 244, 6, 87, 337, 7, 628, 2219, 5, 28, 285, 15, 240, 93, 23, 288, 549, 18, 1455, 673, 4, 241, 534, 3635, 8448, 20, 38, 54, 13, 258, 46, 44, 14, 13, 1241, 7258, 12, 5, 5, 51, 9, 14, 45, 6, 762, 7, 2, 1309, 328, 5, 428, 2473, 15, 26, 1292, 5, 3939, 6728, 5, 1960, 279, 13, 92, 124, 803, 52, 21, 279, 14, 9, 43, 6, 762, 7, 595, 15, 16, 2, 23, 4, 1071, 467, 4, 403, 7, 628, 2219, 8, 97, 6, 171, 3596, 99, 387, 72, 97, 12, 788, 15, 13, 161, 459, 44, 4, 3939, 1101, 173, 21, 69, 8, 401, 2, 4, 481, 88, 61, 4731, 238, 28, 32, 11, 32, 14, 9, 6, 545, 1332, 766, 5, 203, 73, 28, 43, 77, 317, 11, 4, 2, 953, 270, 17, 6, 3616, 13, 545, 386, 25, 92, 1142, 129, 278, 23, 14, 241, 46, 7, 158]\n"
          ],
          "name": "stdout"
        }
      ]
    },
    {
      "cell_type": "markdown",
      "metadata": {
        "id": "9M39zwSBFK9K"
      },
      "source": [
        "### Decode the feature value to get original sentence (2 Marks)"
      ]
    },
    {
      "cell_type": "markdown",
      "metadata": {
        "id": "rkrDyJqsFaIt"
      },
      "source": [
        "First, retrieve a dictionary that contains mapping of words to their index in the IMDB dataset"
      ]
    },
    {
      "cell_type": "code",
      "metadata": {
        "id": "B9co9F7HAJdn"
      },
      "source": [
        "# See an actual review in words\n",
        "# Reverse from integers to words using the DICTIONARY (given by keras...need to do nothing to create it)\n",
        "\n",
        "word_index = imdb.get_word_index()\n",
        "\n",
        "reverse_word_index = dict([(value, key) for (key, value) in word_index.items()])"
      ],
      "execution_count": 8,
      "outputs": []
    },
    {
      "cell_type": "markdown",
      "metadata": {
        "id": "fHUUrebamsJ1"
      },
      "source": [
        "Build a reverse word index to decode the imported database values in to specific review comments"
      ]
    },
    {
      "cell_type": "markdown",
      "metadata": {
        "id": "P9CM7UDFFdlh"
      },
      "source": [
        "Now use the dictionary to get the original words from the encodings, for a particular sentence"
      ]
    },
    {
      "cell_type": "code",
      "metadata": {
        "id": "YRAll1kUC4T3",
        "outputId": "eb6a7270-f21c-49e7-a55c-7de52fd90240",
        "colab": {
          "base_uri": "https://localhost:8080/",
          "height": 88
        }
      },
      "source": [
        "pick_idx = 123  # Pick 123rd sentence\n",
        "\n",
        "print(\"Label:\", train_labels[pick_idx])\n",
        "\n",
        "# build the sentence by decoding each word and concatenate it\n",
        "decoded_review = ' '.join([reverse_word_index.get(i - 3, '$') for i in train_data[pick_idx]])\n",
        "\n",
        "print(textwrap.fill(decoded_review,100))"
      ],
      "execution_count": 9,
      "outputs": [
        {
          "output_type": "stream",
          "text": [
            "Label: 1\n",
            "$ beautiful and touching movie rich colors great settings good acting and one of the most charming\n",
            "movies i have seen in a while i never saw such an interesting setting when i was in china my wife\n",
            "liked it so much she asked me to $ on and rate it so other would enjoy too\n"
          ],
          "name": "stdout"
        }
      ]
    },
    {
      "cell_type": "markdown",
      "metadata": {
        "id": "jXQy_10nTjTr"
      },
      "source": [
        "### Print value of any one feature and it's label (2 Marks)"
      ]
    },
    {
      "cell_type": "code",
      "metadata": {
        "id": "XqzRUmqKTlKj",
        "outputId": "f06c30d9-729b-4444-9728-32e9a8fb3e0b",
        "colab": {
          "base_uri": "https://localhost:8080/",
          "height": 355
        }
      },
      "source": [
        "pick_idx = 1500 # Pick 1500th review\n",
        "print(\"Label:\", train_labels[pick_idx])\n",
        "# build the sentence by decoding each word and concatenate it\n",
        "decoded_review = ' '.join([reverse_word_index.get(i - 3, '$') for i in train_data[pick_idx]])\n",
        "\n",
        "print(textwrap.fill(decoded_review,100))"
      ],
      "execution_count": 10,
      "outputs": [
        {
          "output_type": "stream",
          "text": [
            "Label: 1\n",
            "$ one of the things about the film that $ my heart strings was that dry fly fishing was a major part\n",
            "of the scene i have occasionally carried out my times of dry fly fishing having tied my own flies\n",
            "and being accompanied by my brother and my father we spend a day on one river or another seeking to\n",
            "$ the ever $ brown $ to rise and take the fly that has been offered to them br br when we had\n",
            "occasions like this any differences between us disappeared and any of the $ of the world $ away to\n",
            "be replaced by the glory of being absorbed in the activity and the surroundings of the place we were\n",
            "in br br this was one of the amazing things that was portrayed to me in the film as the minister and\n",
            "his two sons norman and $ carried out the ritual for there is something $ about fly fishing as there\n",
            "is something $ about so many $ you can't just start casting your fishing line and hope for the best\n",
            "you have to $ yourself to the place you are in you have to $ the surface of the water considering\n",
            "how it is flowing and where the best point might be to place your fly and depending on your skill\n",
            "level you might even get your fly to land there long enough for a fish to take note of it and strike\n",
            "the $ of fly $ was directed and represented so well that they themselves can be classified as\n",
            "artists br br the title for the film could not be more $ chosen for the river did in fact run\n",
            "through the life of father and two sons this film however $ itself $ than the family and community\n",
            "in montana by the the $ river where the film is played out it has the capacity to draw you in to $\n",
            "you to capture you as the history of the family community and period is $ the story told is not just\n",
            "a family history but a history of life what may be classified as a $ of $\n"
          ],
          "name": "stdout"
        }
      ]
    },
    {
      "cell_type": "markdown",
      "metadata": {
        "id": "j5VqjSwUS4S4"
      },
      "source": [
        "### Pad each sentence to be of same length (2 Marks)\n",
        "- Take maximum sequence length as 300"
      ]
    },
    {
      "cell_type": "code",
      "metadata": {
        "id": "uh7YsmdQYkwp",
        "outputId": "ca60fc09-f539-44fb-d0e8-9202093f5ad5",
        "colab": {
          "base_uri": "https://localhost:8080/",
          "height": 52
        }
      },
      "source": [
        "from tensorflow.keras.preprocessing.sequence import pad_sequences\n",
        "\n",
        "X = pad_sequences(data,maxlen=300)\n",
        "print(\"Maximum count of words in a review in original review dataset: \", max([len(sequence) for sequence in data]))\n",
        "print(\"Maximum count of words in a review in padded dataset: \", max([len(sequence) for sequence in X]))"
      ],
      "execution_count": 11,
      "outputs": [
        {
          "output_type": "stream",
          "text": [
            "Maximum count of words in a review in original review dataset:  2494\n",
            "Maximum count of words in a review in padded dataset:  300\n"
          ],
          "name": "stdout"
        }
      ]
    },
    {
      "cell_type": "markdown",
      "metadata": {
        "id": "liktIdFZcC0y"
      },
      "source": [
        "### Split in to train and test sets\n",
        " - Train set containing 40000 reviews\n",
        " - Test set containing 10000 reviews\n",
        " - Within the Train set, 10000 reviews are moved in to validation set, and rest 30000 for training"
      ]
    },
    {
      "cell_type": "code",
      "metadata": {
        "id": "Ou1_GLcKcB1o"
      },
      "source": [
        "x_train = X[10000:]\n",
        "x_test = X[:10000]\n",
        "y_train = targets[10000:]\n",
        "y_test = targets[:10000]"
      ],
      "execution_count": 12,
      "outputs": []
    },
    {
      "cell_type": "code",
      "metadata": {
        "id": "9LkUVcFgBkft",
        "outputId": "c03ec5bf-9b9c-4c53-9ccd-aed7a9433fb9",
        "colab": {
          "base_uri": "https://localhost:8080/",
          "height": 88
        }
      },
      "source": [
        "# Set a VALIDATION set\n",
        "\n",
        "x_val = x_train[:10000]\n",
        "partial_x_train = x_train[10000:]\n",
        "y_val = y_train[:10000]\n",
        "partial_y_train = y_train[10000:]\n",
        "\n",
        "print(\"x_val \", x_val.shape)\n",
        "print(\"partial_x_train \", partial_x_train.shape)\n",
        "print(\"y_val \", y_val.shape)\n",
        "print(\"partial_y_train \", partial_y_train.shape)"
      ],
      "execution_count": 13,
      "outputs": [
        {
          "output_type": "stream",
          "text": [
            "x_val  (10000, 300)\n",
            "partial_x_train  (30000, 300)\n",
            "y_val  (10000,)\n",
            "partial_y_train  (30000,)\n"
          ],
          "name": "stdout"
        }
      ]
    },
    {
      "cell_type": "markdown",
      "metadata": {
        "id": "uC6HtTzzXFn3"
      },
      "source": [
        "### Define model (10 Marks)\n",
        "- Define a Sequential Model\n",
        "- Add Embedding layer\n",
        "  - Embedding layer turns positive integers into dense vectors of fixed size\n",
        "  - `tensorflow.keras` embedding layer doesn't require us to onehot encode our words, instead we have to give each word a unique integer number as an id. For the imdb dataset we've loaded this has already been done, but if this wasn't the case we could use sklearn LabelEncoder.\n",
        "  - Size of the vocabulary will be 10000\n",
        "  - Give dimension of the dense embedding as 100\n",
        "  - Length of input sequences should be 300\n",
        "- Add LSTM layer\n",
        "  - Pass value in `return_sequences` as True\n",
        "- Add a `TimeDistributed` layer with 100 Dense neurons\n",
        "- Add Flatten layer\n",
        "- Add Dense layer"
      ]
    },
    {
      "cell_type": "code",
      "metadata": {
        "id": "73mjykywBkc5",
        "outputId": "709784a8-9191-4b32-975a-39914cae02ec",
        "colab": {
          "base_uri": "https://localhost:8080/",
          "height": 55
        }
      },
      "source": [
        "# NN MODEL\n",
        "\n",
        "vocabsize = 10000\n",
        "embed_dim = 100\n",
        "lstm_out = 100\n",
        "\n",
        "# Use of DROPOUT\n",
        "model = models.Sequential()\n",
        "model.add(Embedding(vocabsize, embed_dim,input_length = X.shape[1],name=\"EmbeddingLayer\"))\n",
        "model.add(SpatialDropout1D(0.4,name=\"SpatialDropoutLayer\"))\n",
        "model.add(LSTM(lstm_out,dropout=0.2,recurrent_dropout=0.2,return_sequences=True,name=\"LSTMLayer\"))\n",
        "model.add(TimeDistributed(Dense(100),name=\"TimeDistributedLayer\"))\n",
        "model.add(Flatten(name=\"FlattenLayer\"))\n",
        "model.add(Dense(1,activation='sigmoid',name=\"FinalDenseLayer\"))"
      ],
      "execution_count": 14,
      "outputs": [
        {
          "output_type": "stream",
          "text": [
            "WARNING:tensorflow:Layer LSTMLayer will not use cuDNN kernel since it doesn't meet the cuDNN kernel criteria. It will use generic GPU kernel as fallback when running on GPU\n"
          ],
          "name": "stdout"
        }
      ]
    },
    {
      "cell_type": "markdown",
      "metadata": {
        "id": "7lHQwizhow7P"
      },
      "source": [
        "### Compile the model (2 Marks)\n",
        "- Use Optimizer as Adam\n",
        "- Use Binary Crossentropy as loss\n",
        "- Use Accuracy as metrics"
      ]
    },
    {
      "cell_type": "code",
      "metadata": {
        "id": "EctVvETko3q8"
      },
      "source": [
        "model.compile(optimizer = \"adam\", loss = \"binary_crossentropy\", metrics = [\"accuracy\"])"
      ],
      "execution_count": 15,
      "outputs": []
    },
    {
      "cell_type": "markdown",
      "metadata": {
        "id": "KKy05jUwpENK"
      },
      "source": [
        "### Print model summary (2 Marks)"
      ]
    },
    {
      "cell_type": "code",
      "metadata": {
        "id": "g1dKnT75pB8f",
        "outputId": "4999a076-feb7-4031-ea72-9db4384a8def",
        "colab": {
          "base_uri": "https://localhost:8080/",
          "height": 372
        }
      },
      "source": [
        "model.summary()"
      ],
      "execution_count": 16,
      "outputs": [
        {
          "output_type": "stream",
          "text": [
            "Model: \"sequential\"\n",
            "_________________________________________________________________\n",
            "Layer (type)                 Output Shape              Param #   \n",
            "=================================================================\n",
            "EmbeddingLayer (Embedding)   (None, 300, 100)          1000000   \n",
            "_________________________________________________________________\n",
            "SpatialDropoutLayer (Spatial (None, 300, 100)          0         \n",
            "_________________________________________________________________\n",
            "LSTMLayer (LSTM)             (None, 300, 100)          80400     \n",
            "_________________________________________________________________\n",
            "TimeDistributedLayer (TimeDi (None, 300, 100)          10100     \n",
            "_________________________________________________________________\n",
            "FlattenLayer (Flatten)       (None, 30000)             0         \n",
            "_________________________________________________________________\n",
            "FinalDenseLayer (Dense)      (None, 1)                 30001     \n",
            "=================================================================\n",
            "Total params: 1,120,501\n",
            "Trainable params: 1,120,501\n",
            "Non-trainable params: 0\n",
            "_________________________________________________________________\n"
          ],
          "name": "stdout"
        }
      ]
    },
    {
      "cell_type": "markdown",
      "metadata": {
        "id": "r78VaSgjpaM1"
      },
      "source": [
        "### Fit the model (2 Marks)"
      ]
    },
    {
      "cell_type": "code",
      "metadata": {
        "id": "3Jz9438gBkaA",
        "outputId": "15f54de5-80bc-42f2-d9f9-3ed4c0bf3f79",
        "colab": {
          "base_uri": "https://localhost:8080/",
          "height": 461
        }
      },
      "source": [
        "# FIT / TRAIN model\n",
        "\n",
        "NumEpochs = 10\n",
        "BatchSize = 500\n",
        "\n",
        "history = model.fit(partial_x_train, partial_y_train, epochs=NumEpochs, batch_size=BatchSize, validation_data=(x_val, y_val))\n",
        "\n",
        "results = model.evaluate(x_test, y_test)\n",
        "print(\"_\"*100)\n",
        "print(\"Test Loss and Accuracy\")\n",
        "print(\"results \", results)\n",
        "history_dict = history.history\n",
        "history_dict.keys()"
      ],
      "execution_count": 17,
      "outputs": [
        {
          "output_type": "stream",
          "text": [
            "Epoch 1/10\n",
            "60/60 [==============================] - 31s 520ms/step - loss: 0.5136 - accuracy: 0.7208 - val_loss: 0.3165 - val_accuracy: 0.8633\n",
            "Epoch 2/10\n",
            "60/60 [==============================] - 31s 509ms/step - loss: 0.2587 - accuracy: 0.8927 - val_loss: 0.2801 - val_accuracy: 0.8839\n",
            "Epoch 3/10\n",
            "60/60 [==============================] - 30s 508ms/step - loss: 0.1969 - accuracy: 0.9226 - val_loss: 0.2964 - val_accuracy: 0.8796\n",
            "Epoch 4/10\n",
            "60/60 [==============================] - 31s 511ms/step - loss: 0.1629 - accuracy: 0.9357 - val_loss: 0.3379 - val_accuracy: 0.8820\n",
            "Epoch 5/10\n",
            "60/60 [==============================] - 31s 509ms/step - loss: 0.1423 - accuracy: 0.9446 - val_loss: 0.3410 - val_accuracy: 0.8776\n",
            "Epoch 6/10\n",
            "60/60 [==============================] - 31s 510ms/step - loss: 0.1148 - accuracy: 0.9568 - val_loss: 0.3893 - val_accuracy: 0.8725\n",
            "Epoch 7/10\n",
            "60/60 [==============================] - 31s 510ms/step - loss: 0.0852 - accuracy: 0.9682 - val_loss: 0.4332 - val_accuracy: 0.8696\n",
            "Epoch 8/10\n",
            "60/60 [==============================] - 31s 512ms/step - loss: 0.0693 - accuracy: 0.9741 - val_loss: 0.4804 - val_accuracy: 0.8725\n",
            "Epoch 9/10\n",
            "60/60 [==============================] - 31s 513ms/step - loss: 0.0540 - accuracy: 0.9790 - val_loss: 0.5240 - val_accuracy: 0.8713\n",
            "Epoch 10/10\n",
            "60/60 [==============================] - 31s 516ms/step - loss: 0.0467 - accuracy: 0.9824 - val_loss: 0.5673 - val_accuracy: 0.8645\n",
            "313/313 [==============================] - 24s 78ms/step - loss: 0.5739 - accuracy: 0.8631\n",
            "____________________________________________________________________________________________________\n",
            "Test Loss and Accuracy\n",
            "results  [0.5739215612411499, 0.863099992275238]\n"
          ],
          "name": "stdout"
        },
        {
          "output_type": "execute_result",
          "data": {
            "text/plain": [
              "dict_keys(['loss', 'accuracy', 'val_loss', 'val_accuracy'])"
            ]
          },
          "metadata": {
            "tags": []
          },
          "execution_count": 17
        }
      ]
    },
    {
      "cell_type": "markdown",
      "metadata": {
        "id": "zw6LxqROo0P_"
      },
      "source": [
        "**Observations:**\n",
        " - The training accuracy is pretty decent as is the validation and test accuracy\n",
        " - Since we considered only 300 padded reviews, which means the first 300 words of all the 50,000 reviews there is a possibility of information loss. This is done for obvious performance reasons\n",
        " - So the model will cater to majority of the data but not necessarily be accurate\n",
        " - We are also not using new NLP processes like bi-directional/BERT...etc.,. So there is a high chance that the model is only for basic evaluation"
      ]
    },
    {
      "cell_type": "code",
      "metadata": {
        "id": "1zmFlbDrB5ZZ",
        "outputId": "f7648ef8-55ab-46dd-f40f-052921f43655",
        "colab": {
          "base_uri": "https://localhost:8080/",
          "height": 295
        }
      },
      "source": [
        "# VALIDATION LOSS curves\n",
        "\n",
        "plt.clf()\n",
        "history_dict = history.history\n",
        "loss_values = history_dict['loss']\n",
        "val_loss_values = history_dict['val_loss']\n",
        "epochs = range(1, (len(history_dict['loss']) + 1))\n",
        "plt.plot(epochs, loss_values, 'bo', label='Training loss')\n",
        "plt.plot(epochs, val_loss_values, 'b', label='Validation loss')\n",
        "plt.title('Training and validation loss')\n",
        "plt.xlabel('Epochs')\n",
        "plt.ylabel('Loss')\n",
        "plt.legend()\n",
        "plt.show()"
      ],
      "execution_count": 18,
      "outputs": [
        {
          "output_type": "display_data",
          "data": {
            "image/png": "[encoded data removed]",
            "text/plain": [
              "<Figure size 432x288 with 1 Axes>"
            ]
          },
          "metadata": {
            "tags": [],
            "needs_background": "light"
          }
        }
      ]
    },
    {
      "cell_type": "markdown",
      "metadata": {
        "id": "R-dTRNVmqZ9f"
      },
      "source": [
        "**Observations:**\n",
        " - Though the training loss is constantly reduced, the validation loss is exploding. This means the validation data may not be a representation of training data. There is scope for further tuning to find the global minima"
      ]
    },
    {
      "cell_type": "code",
      "metadata": {
        "id": "giOMX3hmB5WI",
        "outputId": "a80e7b15-d00e-4f15-a154-0ee7c299b6ba",
        "colab": {
          "base_uri": "https://localhost:8080/",
          "height": 295
        }
      },
      "source": [
        "# VALIDATION ACCURACY curves\n",
        "\n",
        "plt.clf()\n",
        "acc_values = history_dict['accuracy']\n",
        "val_acc_values = history_dict['val_accuracy']\n",
        "epochs = range(1, (len(history_dict['accuracy']) + 1))\n",
        "plt.plot(epochs, acc_values, 'bo', label='Training acc')\n",
        "plt.plot(epochs, val_acc_values, 'b', label='Validation acc')\n",
        "plt.title('Training and validation accuracy')\n",
        "plt.xlabel('Epochs')\n",
        "plt.ylabel('Accuracy')\n",
        "plt.legend()\n",
        "plt.show()"
      ],
      "execution_count": 19,
      "outputs": [
        {
          "output_type": "display_data",
          "data": {
            "image/png": "[encoded data removed]",
            "text/plain": [
              "<Figure size 432x288 with 1 Axes>"
            ]
          },
          "metadata": {
            "tags": [],
            "needs_background": "light"
          }
        }
      ]
    },
    {
      "cell_type": "markdown",
      "metadata": {
        "id": "WCYNFsy4qs3K"
      },
      "source": [
        ""
      ]
    },
    {
      "cell_type": "markdown",
      "metadata": {
        "id": "djdj2upDqtFC"
      },
      "source": [
        "**Observations:**\n",
        " - Same observations as the validation loss is not reduced for subsequent training iterations, the accuracy of validation data also didnt improve proportioanl to the accuracy of training data\n",
        " - Seems to be a case of overfitting on training data, but didnt achieve its purpuse on validation data. So probably the model is a bit skewed and requires further tuning or use advanced NLP methods"
      ]
    },
    {
      "cell_type": "markdown",
      "metadata": {
        "id": "tkwyR16XqsjS"
      },
      "source": [
        ""
      ]
    },
    {
      "cell_type": "markdown",
      "metadata": {
        "id": "i-e3cj5V7Xrl"
      },
      "source": [
        "### Evaluate model (2 Marks)"
      ]
    },
    {
      "cell_type": "code",
      "metadata": {
        "id": "TO7mKG7j7ozi",
        "outputId": "04164ff4-60e0-439b-9d25-fe3e82326541",
        "colab": {
          "base_uri": "https://localhost:8080/",
          "height": 52
        }
      },
      "source": [
        "model.evaluate(x_test, y_test)"
      ],
      "execution_count": 20,
      "outputs": [
        {
          "output_type": "stream",
          "text": [
            "313/313 [==============================] - 24s 77ms/step - loss: 0.5739 - accuracy: 0.8631\n"
          ],
          "name": "stdout"
        },
        {
          "output_type": "execute_result",
          "data": {
            "text/plain": [
              "[0.5739215612411499, 0.863099992275238]"
            ]
          },
          "metadata": {
            "tags": []
          },
          "execution_count": 20
        }
      ]
    },
    {
      "cell_type": "markdown",
      "metadata": {
        "id": "bmX-3V3N7XiY"
      },
      "source": [
        "### Predict on one sample (2 Marks)"
      ]
    },
    {
      "cell_type": "code",
      "metadata": {
        "id": "euMv5gznBP36"
      },
      "source": [
        "def preprocess(sample_text):\n",
        "  sample_input = sample_text.split(' ')\n",
        "  sample_predict = np.zeros(300)\n",
        "  sample_predict = sample_predict.astype('int')\n",
        "  idx = 299\n",
        "  for txt in sample_input:\n",
        "    tmp = word_index.get(txt,0)\n",
        "    sample_predict[idx] = tmp\n",
        "    print(txt,\" - \", tmp)\n",
        "    idx = idx - 1\n",
        "  print(\"Sample Text encoded: \", sample_predict)\n",
        "  sample_predict = sample_predict.astype('int')\n",
        "\n",
        "  # build the final array for predicting using the model\n",
        "  final_pred[0]=sample_predict    #copy the new values to first row\n",
        "  print(\"Final input to model to predict, shape:\", final_pred.shape)\n",
        "  return final_pred"
      ],
      "execution_count": 21,
      "outputs": []
    },
    {
      "cell_type": "code",
      "metadata": {
        "id": "JkjNnTT79tCv",
        "outputId": "b4d8689a-75ca-43a4-8644-e50f2bcb8241",
        "colab": {
          "base_uri": "https://localhost:8080/",
          "height": 532
        }
      },
      "source": [
        "sample_text = \"bad movie and a total waste of time \"\n",
        "final_pred = x_test[:1]         #copy the same structure as test dataset\n",
        "final_pred = preprocess(sample_text)\n",
        "sentiment = model.predict(final_pred,batch_size=1)[0]\n",
        "print(\"Sentiment Assessment value (0-Negative <--> 1.Positive): \", sentiment)\n",
        "if(sentiment < 0.5):\n",
        "    print(\"negative\")\n",
        "else:\n",
        "    print(\"positive\")"
      ],
      "execution_count": 26,
      "outputs": [
        {
          "output_type": "stream",
          "text": [
            "bad  -  75\n",
            "movie  -  17\n",
            "and  -  2\n",
            "a  -  3\n",
            "total  -  961\n",
            "waste  -  434\n",
            "of  -  4\n",
            "time  -  55\n",
            "  -  0\n",
            "Sample Text encoded:  [  0   0   0   0   0   0   0   0   0   0   0   0   0   0   0   0   0   0\n",
            "   0   0   0   0   0   0   0   0   0   0   0   0   0   0   0   0   0   0\n",
            "   0   0   0   0   0   0   0   0   0   0   0   0   0   0   0   0   0   0\n",
            "   0   0   0   0   0   0   0   0   0   0   0   0   0   0   0   0   0   0\n",
            "   0   0   0   0   0   0   0   0   0   0   0   0   0   0   0   0   0   0\n",
            "   0   0   0   0   0   0   0   0   0   0   0   0   0   0   0   0   0   0\n",
            "   0   0   0   0   0   0   0   0   0   0   0   0   0   0   0   0   0   0\n",
            "   0   0   0   0   0   0   0   0   0   0   0   0   0   0   0   0   0   0\n",
            "   0   0   0   0   0   0   0   0   0   0   0   0   0   0   0   0   0   0\n",
            "   0   0   0   0   0   0   0   0   0   0   0   0   0   0   0   0   0   0\n",
            "   0   0   0   0   0   0   0   0   0   0   0   0   0   0   0   0   0   0\n",
            "   0   0   0   0   0   0   0   0   0   0   0   0   0   0   0   0   0   0\n",
            "   0   0   0   0   0   0   0   0   0   0   0   0   0   0   0   0   0   0\n",
            "   0   0   0   0   0   0   0   0   0   0   0   0   0   0   0   0   0   0\n",
            "   0   0   0   0   0   0   0   0   0   0   0   0   0   0   0   0   0   0\n",
            "   0   0   0   0   0   0   0   0   0   0   0   0   0   0   0   0   0   0\n",
            "   0   0   0   0  55   4 434 961   3   2  17  75]\n",
            "Final input to model to predict, shape: (1, 300)\n",
            "Sentiment Assessment value (0-Negative <--> 1.Positive):  [0.41072938]\n",
            "negative\n"
          ],
          "name": "stdout"
        }
      ]
    },
    {
      "cell_type": "markdown",
      "metadata": {
        "id": "xSpjANXVn1Z5"
      },
      "source": [
        "**Observations:**\n",
        " - For a sample random review, the accuracy is pretty low but decent enough\n",
        " - For IMDB list of review comments, the accuracy is pretty high. So we can try a couple of options"
      ]
    },
    {
      "cell_type": "markdown",
      "metadata": {
        "id": "g4K0GtsurpTZ"
      },
      "source": [
        "#### A negative sentiment case from IMDB database itself"
      ]
    },
    {
      "cell_type": "code",
      "metadata": {
        "id": "cyOGVR-onrOS",
        "outputId": "f75e3d90-3ae2-43dc-cd15-b664b2dc2fc7",
        "colab": {
          "base_uri": "https://localhost:8080/",
          "height": 70
        }
      },
      "source": [
        "final_pred = x_test[:1]         #copy the same structure as test dataset\n",
        "final_pred[0] = x_test[1000]    #transfer the encoded review comment of 1002 item from test set\n",
        "print(\"Label from IMDB for a sample test set:\", y_test[1000])\n",
        "sentiment = model.predict(final_pred,batch_size=1)[0]\n",
        "print(\"Sentiment Assessment value (0-Negative <--> 1.Positive): \", sentiment)\n",
        "if(sentiment < 0.5):\n",
        "    print(\"negative\")\n",
        "else:\n",
        "    print(\"positive\")"
      ],
      "execution_count": 27,
      "outputs": [
        {
          "output_type": "stream",
          "text": [
            "Label from IMDB for a sample test set: 0\n",
            "Sentiment Assessment value (0-Negative <--> 1.Positive):  [0.04528756]\n",
            "negative\n"
          ],
          "name": "stdout"
        }
      ]
    },
    {
      "cell_type": "markdown",
      "metadata": {
        "id": "ooDc0ZHsrt5b"
      },
      "source": [
        "#### A positive sentiment case from IMDB database itself"
      ]
    },
    {
      "cell_type": "code",
      "metadata": {
        "id": "tt064SClrgZQ",
        "outputId": "bf1c3c1d-f3cb-45d6-e80c-db6b5dde6495",
        "colab": {
          "base_uri": "https://localhost:8080/",
          "height": 70
        }
      },
      "source": [
        "final_pred = x_test[:1]         #copy the same structure as test dataset\n",
        "final_pred[0] = x_test[900]    #transfer the encoded review comment of 1002 item from test set\n",
        "print(\"Label from IMDB for a sample test set:\", y_test[900])\n",
        "sentiment = model.predict(final_pred,batch_size=1)[0]\n",
        "print(\"Sentiment Assessment value (0-Negative <--> 1.Positive): \", sentiment)\n",
        "if(sentiment < 0.5):\n",
        "    print(\"negative\")\n",
        "else:\n",
        "    print(\"positive\")"
      ],
      "execution_count": 29,
      "outputs": [
        {
          "output_type": "stream",
          "text": [
            "Label from IMDB for a sample test set: 1\n",
            "Sentiment Assessment value (0-Negative <--> 1.Positive):  [0.9891494]\n",
            "positive\n"
          ],
          "name": "stdout"
        }
      ]
    }
  ]
}